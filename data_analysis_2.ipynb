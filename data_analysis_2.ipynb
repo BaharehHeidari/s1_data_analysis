{
 "cells": [
  {
   "cell_type": "markdown",
   "metadata": {},
   "source": [
    "# Data Analysis and Data Science\n",
    "## Be curious about the methods\n",
    "\n",
    "By: Caroline Labelle\n",
    "<br>For: BCM6065-65\n",
    "\n",
    "<br>\n",
    "Date: July 14th 2021\n",
    "\n",
    "<hr style=\"border:1px solid black\"> </hr>\n"
   ]
  },
  {
   "cell_type": "code",
   "execution_count": null,
   "metadata": {},
   "outputs": [],
   "source": [
    "Name: Bahareh Heidari"
   ]
  },
  {
   "cell_type": "markdown",
   "metadata": {},
   "source": [
    "## Installing Python libraries\n",
    "\n",
    "Befor using (or importing) a library in Python, you first need to install it!. This step only need to be done once for each library: once istalled, you will have access to all the libraries from your coding environment.\n",
    "\n",
    "Ressource: https://pip.pypa.io/en/stable/user_guide/"
   ]
  },
  {
   "cell_type": "code",
   "execution_count": 5,
   "metadata": {},
   "outputs": [
    {
     "name": "stdout",
     "output_type": "stream",
     "text": [
      "Requirement already up-to-date: scikit-learn in ./.local/lib/python3.6/site-packages (0.24.2)\n",
      "Requirement already satisfied, skipping upgrade: numpy>=1.13.3 in /soft/bioinfo/linux_RH7/python-3.6.7/lib/python3.6/site-packages (from scikit-learn) (1.15.4)\n",
      "Requirement already satisfied, skipping upgrade: threadpoolctl>=2.0.0 in ./.local/lib/python3.6/site-packages (from scikit-learn) (2.1.0)\n",
      "Requirement already satisfied, skipping upgrade: scipy>=0.19.1 in ./.local/lib/python3.6/site-packages (from scikit-learn) (1.5.4)\n",
      "Requirement already satisfied, skipping upgrade: joblib>=0.11 in ./.local/lib/python3.6/site-packages (from scikit-learn) (1.0.1)\n",
      "\u001b[33mYou are using pip version 18.1, however version 21.1.3 is available.\n",
      "You should consider upgrading via the 'pip install --upgrade pip' command.\u001b[0m\n"
     ]
    }
   ],
   "source": [
    "### Installing scikit-learn\n",
    "!pip3 install -U scikit-learn"
   ]
  },
  {
   "cell_type": "code",
   "execution_count": null,
   "metadata": {},
   "outputs": [],
   "source": [
    "!pip3 install -U scikit-learn"
   ]
  },
  {
   "cell_type": "code",
   "execution_count": 8,
   "metadata": {},
   "outputs": [],
   "source": [
    "### Import sklearn\n",
    "import sklearn.decomposition\n",
    "import sklearn.cluster\n",
    "### Import scipy\n",
    "import scipy\n",
    "\n",
    "### Import pandas, numpy, seaborn and matplotlib.pyplot\n",
    "import pandas as pd\n",
    "import numpy as np\n",
    "import seaborn as sns\n",
    "import matplotlib.pyplot as plt"
   ]
  },
  {
   "cell_type": "code",
   "execution_count": 97,
   "metadata": {},
   "outputs": [],
   "source": [
    "sns.set(rc={'figure.figsize':(9, 4)})\n",
    "sns.set_theme(context=\"notebook\", style=\"white\", palette=\"Set2\")"
   ]
  },
  {
   "cell_type": "markdown",
   "metadata": {},
   "source": [
    "We will be mainly using the <code>sklearn</code> and <code>scipy</code> libraries to implement and use various data analysis methods.\n",
    "\n",
    "scikit-learn ressource: https://scikit-learn.org/stable/index.html\n",
    "Scipy ressource: https://docs.scipy.org/doc/scipy/reference/"
   ]
  },
  {
   "cell_type": "markdown",
   "metadata": {},
   "source": [
    "## Data Analysis\n",
    "\n",
    "Once we've explored our dataset and have a better undesrtanding of what it contains, we can start to analyse it! Before applying any kind of methods, we must first establish \"what we want to know\".\n",
    "\n",
    "Do we want to **fit** our data to a model and/or assess if there is a **correlation** between variables? Do we want to **decompose** our dataset and/or identify **clusters**?\n",
    "\n",
    "Once we establish \"what we want to know\", we need to define \"how we'll do it\"! There exist different methods for a single task... We must be curious about the methods and use the one that is the most appropriate to our *context*! \n",
    "\n",
    "<hr>"
   ]
  },
  {
   "cell_type": "markdown",
   "metadata": {},
   "source": [
    "## Regression and Curve fitting"
   ]
  },
  {
   "cell_type": "markdown",
   "metadata": {},
   "source": [
    "### Linear regression with Scipy\n",
    "\n",
    "<code>scipy.stats.linregress(x, y, alternative='two-sided')</code>\n",
    "\n",
    "* **x, y**: sets of measurements\n",
    "* **alternative='two-sided'**: the alternative hypothesis ($H_{a}$) is that the slope of the regression line is nonzero\n",
    "\n",
    "Here, the null hypothesis ($H_{0}$) is that the slope is zero.\n",
    "\n",
    "Ressource: https://docs.scipy.org/doc/scipy/reference/generated/scipy.stats.linregress.html#scipy.stats.linregress"
   ]
  },
  {
   "cell_type": "code",
   "execution_count": 51,
   "metadata": {},
   "outputs": [],
   "source": [
    "### Import the iris dataset fn:file name\n",
    "fn = \"iris.tsv\""
   ]
  },
  {
   "cell_type": "code",
   "execution_count": 52,
   "metadata": {},
   "outputs": [
    {
     "data": {
      "text/html": [
       "<div>\n",
       "<style scoped>\n",
       "    .dataframe tbody tr th:only-of-type {\n",
       "        vertical-align: middle;\n",
       "    }\n",
       "\n",
       "    .dataframe tbody tr th {\n",
       "        vertical-align: top;\n",
       "    }\n",
       "\n",
       "    .dataframe thead th {\n",
       "        text-align: right;\n",
       "    }\n",
       "</style>\n",
       "<table border=\"1\" class=\"dataframe\">\n",
       "  <thead>\n",
       "    <tr style=\"text-align: right;\">\n",
       "      <th></th>\n",
       "      <th>sepal_length</th>\n",
       "      <th>sepal_width</th>\n",
       "      <th>petal_length</th>\n",
       "      <th>petal_width</th>\n",
       "      <th>label</th>\n",
       "    </tr>\n",
       "  </thead>\n",
       "  <tbody>\n",
       "    <tr>\n",
       "      <th>0</th>\n",
       "      <td>5.1</td>\n",
       "      <td>3.5</td>\n",
       "      <td>1.4</td>\n",
       "      <td>0.2</td>\n",
       "      <td>Iris-setosa</td>\n",
       "    </tr>\n",
       "    <tr>\n",
       "      <th>1</th>\n",
       "      <td>4.9</td>\n",
       "      <td>3.0</td>\n",
       "      <td>1.4</td>\n",
       "      <td>0.2</td>\n",
       "      <td>Iris-setosa</td>\n",
       "    </tr>\n",
       "    <tr>\n",
       "      <th>2</th>\n",
       "      <td>4.7</td>\n",
       "      <td>3.2</td>\n",
       "      <td>1.3</td>\n",
       "      <td>0.2</td>\n",
       "      <td>Iris-setosa</td>\n",
       "    </tr>\n",
       "    <tr>\n",
       "      <th>3</th>\n",
       "      <td>4.6</td>\n",
       "      <td>3.1</td>\n",
       "      <td>1.5</td>\n",
       "      <td>0.2</td>\n",
       "      <td>Iris-setosa</td>\n",
       "    </tr>\n",
       "    <tr>\n",
       "      <th>4</th>\n",
       "      <td>5.0</td>\n",
       "      <td>3.6</td>\n",
       "      <td>1.4</td>\n",
       "      <td>0.2</td>\n",
       "      <td>Iris-setosa</td>\n",
       "    </tr>\n",
       "    <tr>\n",
       "      <th>...</th>\n",
       "      <td>...</td>\n",
       "      <td>...</td>\n",
       "      <td>...</td>\n",
       "      <td>...</td>\n",
       "      <td>...</td>\n",
       "    </tr>\n",
       "    <tr>\n",
       "      <th>145</th>\n",
       "      <td>6.7</td>\n",
       "      <td>3.0</td>\n",
       "      <td>5.2</td>\n",
       "      <td>2.3</td>\n",
       "      <td>Iris-virginica</td>\n",
       "    </tr>\n",
       "    <tr>\n",
       "      <th>146</th>\n",
       "      <td>6.3</td>\n",
       "      <td>2.5</td>\n",
       "      <td>5.0</td>\n",
       "      <td>1.9</td>\n",
       "      <td>Iris-virginica</td>\n",
       "    </tr>\n",
       "    <tr>\n",
       "      <th>147</th>\n",
       "      <td>6.5</td>\n",
       "      <td>3.0</td>\n",
       "      <td>5.2</td>\n",
       "      <td>2.0</td>\n",
       "      <td>Iris-virginica</td>\n",
       "    </tr>\n",
       "    <tr>\n",
       "      <th>148</th>\n",
       "      <td>6.2</td>\n",
       "      <td>3.4</td>\n",
       "      <td>5.4</td>\n",
       "      <td>2.3</td>\n",
       "      <td>Iris-virginica</td>\n",
       "    </tr>\n",
       "    <tr>\n",
       "      <th>149</th>\n",
       "      <td>5.9</td>\n",
       "      <td>3.0</td>\n",
       "      <td>5.1</td>\n",
       "      <td>1.8</td>\n",
       "      <td>Iris-virginica</td>\n",
       "    </tr>\n",
       "  </tbody>\n",
       "</table>\n",
       "<p>150 rows × 5 columns</p>\n",
       "</div>"
      ],
      "text/plain": [
       "     sepal_length  sepal_width  petal_length  petal_width           label\n",
       "0             5.1          3.5           1.4          0.2     Iris-setosa\n",
       "1             4.9          3.0           1.4          0.2     Iris-setosa\n",
       "2             4.7          3.2           1.3          0.2     Iris-setosa\n",
       "3             4.6          3.1           1.5          0.2     Iris-setosa\n",
       "4             5.0          3.6           1.4          0.2     Iris-setosa\n",
       "..            ...          ...           ...          ...             ...\n",
       "145           6.7          3.0           5.2          2.3  Iris-virginica\n",
       "146           6.3          2.5           5.0          1.9  Iris-virginica\n",
       "147           6.5          3.0           5.2          2.0  Iris-virginica\n",
       "148           6.2          3.4           5.4          2.3  Iris-virginica\n",
       "149           5.9          3.0           5.1          1.8  Iris-virginica\n",
       "\n",
       "[150 rows x 5 columns]"
      ]
     },
     "execution_count": 52,
     "metadata": {},
     "output_type": "execute_result"
    }
   ],
   "source": [
    "data_iris = pd.read_csv(fn,sep=\"\\t\")\n",
    "data_iris"
   ]
  },
  {
   "cell_type": "code",
   "execution_count": 53,
   "metadata": {
    "scrolled": true
   },
   "outputs": [
    {
     "data": {
      "text/plain": [
       "<seaborn.axisgrid.PairGrid at 0x2b8d27c6da20>"
      ]
     },
     "execution_count": 53,
     "metadata": {},
     "output_type": "execute_result"
    },
    {
     "data": {
      "image/png": "[encoded data removed]",
      "text/plain": [
       "<Figure size 834.35x720 with 20 Axes>"
      ]
     },
     "metadata": {},
     "output_type": "display_data"
    }
   ],
   "source": [
    "### Plot a pairwise comparison figure with seaborn\n",
    "sns.pairplot(data_iris, hue=\"label\")"
   ]
  },
  {
   "cell_type": "code",
   "execution_count": null,
   "metadata": {},
   "outputs": [],
   "source": []
  },
  {
   "cell_type": "markdown",
   "metadata": {},
   "source": [
    "Petal length and width seems to be highly corrolated. We want to confirm this by applying a linear regression."
   ]
  },
  {
   "cell_type": "code",
   "execution_count": 54,
   "metadata": {},
   "outputs": [],
   "source": [
    "## Do a linear regression\n",
    "x= data_iris.petal_width\n",
    "y= data_iris.petal_length\n",
    "reg=scipy.stats.linregress(x=x, y=y)"
   ]
  },
  {
   "cell_type": "code",
   "execution_count": 55,
   "metadata": {},
   "outputs": [
    {
     "data": {
      "text/plain": [
       "LinregressResult(slope=2.229940495121863, intercept=1.083558032850512, rvalue=0.9628654314027962, pvalue=4.675003907326566e-86, stderr=0.05139623146514124)"
      ]
     },
     "execution_count": 55,
     "metadata": {},
     "output_type": "execute_result"
    }
   ],
   "source": [
    "## Look a the results\n",
    "reg"
   ]
  },
  {
   "cell_type": "code",
   "execution_count": 56,
   "metadata": {},
   "outputs": [],
   "source": [
    "###y=ax+b\n",
    "y_own = reg.slope*x+reg.intercept"
   ]
  },
  {
   "cell_type": "code",
   "execution_count": 144,
   "metadata": {},
   "outputs": [
    {
     "data": {
      "text/plain": [
       "'The R coefficient is: 0.963'"
      ]
     },
     "execution_count": 144,
     "metadata": {},
     "output_type": "execute_result"
    }
   ],
   "source": [
    "###rvalue\n",
    "\"The R coefficient is: %.3f\" %  (reg.rvalue)"
   ]
  },
  {
   "cell_type": "code",
   "execution_count": 149,
   "metadata": {},
   "outputs": [
    {
     "data": {
      "image/png": "[encoded data removed]",
      "text/plain": [
       "<Figure size 648x288 with 1 Axes>"
      ]
     },
     "metadata": {},
     "output_type": "display_data"
    }
   ],
   "source": [
    "sns.scatterplot(x=x, y=y)\n",
    "sns.regplot(x=x, y=y, scatter=False)\n",
    "sns.lineplot(x=x, y=y_own, color=\"red\")\n",
    "plt.title(\"petal width vs. length (%.3f) %s\" % (reg.rvalue, fn))\n",
    "sns.despine()"
   ]
  },
  {
   "cell_type": "markdown",
   "metadata": {},
   "source": [
    "The <code>rvalue</code> represents the correlation coefficient. The Pearson's correlation coefficient measures the linear relationship between two variables.\n",
    "\n",
    "**Important**: a correlation of 0 does not imply no correlation!\n",
    "\n",
    "<hr>"
   ]
  },
  {
   "cell_type": "code",
   "execution_count": null,
   "metadata": {},
   "outputs": [],
   "source": []
  },
  {
   "cell_type": "markdown",
   "metadata": {},
   "source": [
    "### Exercice [10 points]\n",
    "Select a pair of variables (other than petal length vs. width). \n",
    "1. Apply a linear regression for each flower type;\n",
    "2. Plot the datapoints and a the linear fit obtained for each flower type (you plot three plots independently).\n",
    "\n",
    "Which flower type has the highest correlation?"
   ]
  },
  {
   "cell_type": "markdown",
   "metadata": {},
   "source": [
    "# Based on the results, Setosa flowers with the highest  rvalue (0.7), have the highest correlation coefficient. However, the difference between rvalues of different types of flowers seem not to be significant."
   ]
  },
  {
   "cell_type": "code",
   "execution_count": 619,
   "metadata": {},
   "outputs": [
    {
     "data": {
      "text/html": [
       "<div>\n",
       "<style scoped>\n",
       "    .dataframe tbody tr th:only-of-type {\n",
       "        vertical-align: middle;\n",
       "    }\n",
       "\n",
       "    .dataframe tbody tr th {\n",
       "        vertical-align: top;\n",
       "    }\n",
       "\n",
       "    .dataframe thead th {\n",
       "        text-align: right;\n",
       "    }\n",
       "</style>\n",
       "<table border=\"1\" class=\"dataframe\">\n",
       "  <thead>\n",
       "    <tr style=\"text-align: right;\">\n",
       "      <th></th>\n",
       "      <th>sepal_length</th>\n",
       "      <th>sepal_width</th>\n",
       "      <th>petal_length</th>\n",
       "      <th>petal_width</th>\n",
       "      <th>label</th>\n",
       "    </tr>\n",
       "  </thead>\n",
       "  <tbody>\n",
       "    <tr>\n",
       "      <th>100</th>\n",
       "      <td>6.3</td>\n",
       "      <td>3.3</td>\n",
       "      <td>6.0</td>\n",
       "      <td>2.5</td>\n",
       "      <td>Iris-virginica</td>\n",
       "    </tr>\n",
       "    <tr>\n",
       "      <th>101</th>\n",
       "      <td>5.8</td>\n",
       "      <td>2.7</td>\n",
       "      <td>5.1</td>\n",
       "      <td>1.9</td>\n",
       "      <td>Iris-virginica</td>\n",
       "    </tr>\n",
       "    <tr>\n",
       "      <th>102</th>\n",
       "      <td>7.1</td>\n",
       "      <td>3.0</td>\n",
       "      <td>5.9</td>\n",
       "      <td>2.1</td>\n",
       "      <td>Iris-virginica</td>\n",
       "    </tr>\n",
       "    <tr>\n",
       "      <th>103</th>\n",
       "      <td>6.3</td>\n",
       "      <td>2.9</td>\n",
       "      <td>5.6</td>\n",
       "      <td>1.8</td>\n",
       "      <td>Iris-virginica</td>\n",
       "    </tr>\n",
       "    <tr>\n",
       "      <th>104</th>\n",
       "      <td>6.5</td>\n",
       "      <td>3.0</td>\n",
       "      <td>5.8</td>\n",
       "      <td>2.2</td>\n",
       "      <td>Iris-virginica</td>\n",
       "    </tr>\n",
       "  </tbody>\n",
       "</table>\n",
       "</div>"
      ],
      "text/plain": [
       "     sepal_length  sepal_width  petal_length  petal_width           label\n",
       "100           6.3          3.3           6.0          2.5  Iris-virginica\n",
       "101           5.8          2.7           5.1          1.9  Iris-virginica\n",
       "102           7.1          3.0           5.9          2.1  Iris-virginica\n",
       "103           6.3          2.9           5.6          1.8  Iris-virginica\n",
       "104           6.5          3.0           5.8          2.2  Iris-virginica"
      ]
     },
     "execution_count": 619,
     "metadata": {},
     "output_type": "execute_result"
    }
   ],
   "source": [
    "### create Iris_virginica dataframe\n",
    "Iris_virginica_dataframe = data_iris[data_iris[\"label\"]==\"Iris-virginica\"]\n",
    "Iris_virginica_dataframe.head()"
   ]
  },
  {
   "cell_type": "code",
   "execution_count": 620,
   "metadata": {},
   "outputs": [
    {
     "data": {
      "text/plain": [
       "(50, 5)"
      ]
     },
     "execution_count": 620,
     "metadata": {},
     "output_type": "execute_result"
    }
   ],
   "source": [
    "Iris_virginica_dataframe.shape"
   ]
  },
  {
   "cell_type": "code",
   "execution_count": 621,
   "metadata": {},
   "outputs": [],
   "source": [
    "##  linear regression for sepal width and sepal length of Iris-virginica\n",
    "x= Iris_virginica_dataframe.sepal_width\n",
    "y= Iris_virginica_dataframe.sepal_length\n",
    "reg=scipy.stats.linregress(x=x, y=y)"
   ]
  },
  {
   "cell_type": "code",
   "execution_count": 622,
   "metadata": {
    "scrolled": true
   },
   "outputs": [
    {
     "data": {
      "text/plain": [
       "LinregressResult(slope=0.9015344766688901, intercept=3.906836466386719, rvalue=0.45722781639411275, pvalue=0.0008434624723708833, stderr=0.25310550725196024)"
      ]
     },
     "execution_count": 622,
     "metadata": {},
     "output_type": "execute_result"
    }
   ],
   "source": [
    "reg"
   ]
  },
  {
   "cell_type": "code",
   "execution_count": 623,
   "metadata": {},
   "outputs": [],
   "source": [
    "y_own = reg.slope*x+reg.intercept"
   ]
  },
  {
   "cell_type": "code",
   "execution_count": 624,
   "metadata": {},
   "outputs": [
    {
     "data": {
      "image/png": "[encoded data removed]",
      "text/plain": [
       "<Figure size 648x288 with 1 Axes>"
      ]
     },
     "metadata": {},
     "output_type": "display_data"
    }
   ],
   "source": [
    "x= Iris_virginica_dataframe.sepal_width\n",
    "y= Iris_virginica_dataframe.sepal_length\n",
    "sns.scatterplot(x=x, y=y)\n",
    "sns.regplot(x=x, y=y, scatter=False)\n",
    "sns.lineplot(x=x, y=y_own, color=\"red\")\n",
    "plt.title(\"linear correlation between petal width and sepal length in virginica type\")\n",
    "sns.despine()"
   ]
  },
  {
   "cell_type": "code",
   "execution_count": 625,
   "metadata": {},
   "outputs": [
    {
     "data": {
      "text/html": [
       "<div>\n",
       "<style scoped>\n",
       "    .dataframe tbody tr th:only-of-type {\n",
       "        vertical-align: middle;\n",
       "    }\n",
       "\n",
       "    .dataframe tbody tr th {\n",
       "        vertical-align: top;\n",
       "    }\n",
       "\n",
       "    .dataframe thead th {\n",
       "        text-align: right;\n",
       "    }\n",
       "</style>\n",
       "<table border=\"1\" class=\"dataframe\">\n",
       "  <thead>\n",
       "    <tr style=\"text-align: right;\">\n",
       "      <th></th>\n",
       "      <th>sepal_length</th>\n",
       "      <th>sepal_width</th>\n",
       "      <th>petal_length</th>\n",
       "      <th>petal_width</th>\n",
       "      <th>label</th>\n",
       "    </tr>\n",
       "  </thead>\n",
       "  <tbody>\n",
       "    <tr>\n",
       "      <th>50</th>\n",
       "      <td>7.0</td>\n",
       "      <td>3.2</td>\n",
       "      <td>4.7</td>\n",
       "      <td>1.4</td>\n",
       "      <td>Iris-versicolor</td>\n",
       "    </tr>\n",
       "    <tr>\n",
       "      <th>51</th>\n",
       "      <td>6.4</td>\n",
       "      <td>3.2</td>\n",
       "      <td>4.5</td>\n",
       "      <td>1.5</td>\n",
       "      <td>Iris-versicolor</td>\n",
       "    </tr>\n",
       "    <tr>\n",
       "      <th>52</th>\n",
       "      <td>6.9</td>\n",
       "      <td>3.1</td>\n",
       "      <td>4.9</td>\n",
       "      <td>1.5</td>\n",
       "      <td>Iris-versicolor</td>\n",
       "    </tr>\n",
       "    <tr>\n",
       "      <th>53</th>\n",
       "      <td>5.5</td>\n",
       "      <td>2.3</td>\n",
       "      <td>4.0</td>\n",
       "      <td>1.3</td>\n",
       "      <td>Iris-versicolor</td>\n",
       "    </tr>\n",
       "    <tr>\n",
       "      <th>54</th>\n",
       "      <td>6.5</td>\n",
       "      <td>2.8</td>\n",
       "      <td>4.6</td>\n",
       "      <td>1.5</td>\n",
       "      <td>Iris-versicolor</td>\n",
       "    </tr>\n",
       "  </tbody>\n",
       "</table>\n",
       "</div>"
      ],
      "text/plain": [
       "    sepal_length  sepal_width  petal_length  petal_width            label\n",
       "50           7.0          3.2           4.7          1.4  Iris-versicolor\n",
       "51           6.4          3.2           4.5          1.5  Iris-versicolor\n",
       "52           6.9          3.1           4.9          1.5  Iris-versicolor\n",
       "53           5.5          2.3           4.0          1.3  Iris-versicolor\n",
       "54           6.5          2.8           4.6          1.5  Iris-versicolor"
      ]
     },
     "execution_count": 625,
     "metadata": {},
     "output_type": "execute_result"
    }
   ],
   "source": [
    "### create Iris versicolor dataframe\n",
    "Iris_versicolor_dataframe = data_iris[data_iris[\"label\"]==\"Iris-versicolor\"]\n",
    "Iris_versicolor_dataframe.head()"
   ]
  },
  {
   "cell_type": "code",
   "execution_count": 626,
   "metadata": {},
   "outputs": [],
   "source": [
    "##  linear regression for sepal width anf length of Iris-versicolor\n",
    "x= Iris_versicolor_dataframe.sepal_width\n",
    "y= Iris_versicolor_dataframe.sepal_length\n",
    "reg=scipy.stats.linregress(x=x, y=y)"
   ]
  },
  {
   "cell_type": "code",
   "execution_count": 627,
   "metadata": {
    "scrolled": true
   },
   "outputs": [
    {
     "data": {
      "text/plain": [
       "LinregressResult(slope=0.8650777202072538, intercept=3.5397347150259066, rvalue=0.5259107172828246, pvalue=8.77186001197382e-05, stderr=0.2019375661891724)"
      ]
     },
     "execution_count": 627,
     "metadata": {},
     "output_type": "execute_result"
    }
   ],
   "source": [
    "reg"
   ]
  },
  {
   "cell_type": "code",
   "execution_count": 628,
   "metadata": {},
   "outputs": [],
   "source": [
    "y_own = reg.slope*x+reg.intercept"
   ]
  },
  {
   "cell_type": "code",
   "execution_count": 629,
   "metadata": {},
   "outputs": [
    {
     "data": {
      "image/png": "[encoded data removed]",
      "text/plain": [
       "<Figure size 648x288 with 1 Axes>"
      ]
     },
     "metadata": {},
     "output_type": "display_data"
    }
   ],
   "source": [
    "x= Iris_versicolor_dataframe.sepal_width\n",
    "y= Iris_versicolor_dataframe.sepal_length\n",
    "sns.scatterplot(x=x, y=y)\n",
    "sns.regplot(x=x, y=y, scatter=False)\n",
    "sns.lineplot(x=x, y=y_own, color=\"red\")\n",
    "plt.title(\"linear correlation between petal width and sepal length in versicolor type\")\n",
    "sns.despine()"
   ]
  },
  {
   "cell_type": "code",
   "execution_count": 630,
   "metadata": {
    "scrolled": true
   },
   "outputs": [
    {
     "data": {
      "text/html": [
       "<div>\n",
       "<style scoped>\n",
       "    .dataframe tbody tr th:only-of-type {\n",
       "        vertical-align: middle;\n",
       "    }\n",
       "\n",
       "    .dataframe tbody tr th {\n",
       "        vertical-align: top;\n",
       "    }\n",
       "\n",
       "    .dataframe thead th {\n",
       "        text-align: right;\n",
       "    }\n",
       "</style>\n",
       "<table border=\"1\" class=\"dataframe\">\n",
       "  <thead>\n",
       "    <tr style=\"text-align: right;\">\n",
       "      <th></th>\n",
       "      <th>sepal_length</th>\n",
       "      <th>sepal_width</th>\n",
       "      <th>petal_length</th>\n",
       "      <th>petal_width</th>\n",
       "      <th>label</th>\n",
       "    </tr>\n",
       "  </thead>\n",
       "  <tbody>\n",
       "    <tr>\n",
       "      <th>0</th>\n",
       "      <td>5.1</td>\n",
       "      <td>3.5</td>\n",
       "      <td>1.4</td>\n",
       "      <td>0.2</td>\n",
       "      <td>Iris-setosa</td>\n",
       "    </tr>\n",
       "    <tr>\n",
       "      <th>1</th>\n",
       "      <td>4.9</td>\n",
       "      <td>3.0</td>\n",
       "      <td>1.4</td>\n",
       "      <td>0.2</td>\n",
       "      <td>Iris-setosa</td>\n",
       "    </tr>\n",
       "    <tr>\n",
       "      <th>2</th>\n",
       "      <td>4.7</td>\n",
       "      <td>3.2</td>\n",
       "      <td>1.3</td>\n",
       "      <td>0.2</td>\n",
       "      <td>Iris-setosa</td>\n",
       "    </tr>\n",
       "    <tr>\n",
       "      <th>3</th>\n",
       "      <td>4.6</td>\n",
       "      <td>3.1</td>\n",
       "      <td>1.5</td>\n",
       "      <td>0.2</td>\n",
       "      <td>Iris-setosa</td>\n",
       "    </tr>\n",
       "    <tr>\n",
       "      <th>4</th>\n",
       "      <td>5.0</td>\n",
       "      <td>3.6</td>\n",
       "      <td>1.4</td>\n",
       "      <td>0.2</td>\n",
       "      <td>Iris-setosa</td>\n",
       "    </tr>\n",
       "  </tbody>\n",
       "</table>\n",
       "</div>"
      ],
      "text/plain": [
       "   sepal_length  sepal_width  petal_length  petal_width        label\n",
       "0           5.1          3.5           1.4          0.2  Iris-setosa\n",
       "1           4.9          3.0           1.4          0.2  Iris-setosa\n",
       "2           4.7          3.2           1.3          0.2  Iris-setosa\n",
       "3           4.6          3.1           1.5          0.2  Iris-setosa\n",
       "4           5.0          3.6           1.4          0.2  Iris-setosa"
      ]
     },
     "execution_count": 630,
     "metadata": {},
     "output_type": "execute_result"
    }
   ],
   "source": [
    "### create Iris setosa dataframe\n",
    "Iris_setosa_dataframe = data_iris[data_iris[\"label\"]==\"Iris-setosa\"]\n",
    "Iris_setosa_dataframe.head()"
   ]
  },
  {
   "cell_type": "code",
   "execution_count": 631,
   "metadata": {},
   "outputs": [],
   "source": [
    "##  linear regression for sepal width anf length of Iris-setosa\n",
    "x= Iris_setosa_dataframe.sepal_width\n",
    "y= Iris_setosa_dataframe.sepal_length\n",
    "reg=scipy.stats.linregress(x=x, y=y)"
   ]
  },
  {
   "cell_type": "code",
   "execution_count": 632,
   "metadata": {
    "scrolled": true
   },
   "outputs": [
    {
     "data": {
      "text/plain": [
       "LinregressResult(slope=0.6904897170776048, intercept=2.639001249857971, rvalue=0.7425466856651597, pvalue=6.709843017660536e-10, stderr=0.08989888130600565)"
      ]
     },
     "execution_count": 632,
     "metadata": {},
     "output_type": "execute_result"
    }
   ],
   "source": [
    "reg"
   ]
  },
  {
   "cell_type": "code",
   "execution_count": 633,
   "metadata": {},
   "outputs": [],
   "source": [
    "y_own = reg.slope*x+reg.intercept"
   ]
  },
  {
   "cell_type": "code",
   "execution_count": 634,
   "metadata": {},
   "outputs": [
    {
     "data": {
      "image/png": "[encoded data removed]",
      "text/plain": [
       "<Figure size 648x288 with 1 Axes>"
      ]
     },
     "metadata": {},
     "output_type": "display_data"
    }
   ],
   "source": [
    "x= Iris_setosa_dataframe.sepal_width\n",
    "y= Iris_setosa_dataframe.sepal_length\n",
    "sns.scatterplot(x=x, y=y)\n",
    "sns.regplot(x=x, y=y, scatter=False)\n",
    "sns.lineplot(x=x, y=y_own, color=\"red\")\n",
    "plt.title(\"linear correlation between petal width and sepal length in setosa type\")\n",
    "sns.despine()"
   ]
  },
  {
   "cell_type": "markdown",
   "metadata": {},
   "source": [
    "### Curve fitting with Scipy\n",
    "\n",
    "<code>scipy.optimize.curve_fit(f, x, y)</code>\n",
    "\n",
    "* **f**: model function such that $f(x, ...)$\n",
    "* **x, y**: sets of measurements\n",
    "\n",
    "\n",
    "Ressource: https://docs.scipy.org/doc/scipy/reference/generated/scipy.optimize.curve_fit.html#scipy.optimize.curve_fit"
   ]
  },
  {
   "cell_type": "code",
   "execution_count": 59,
   "metadata": {},
   "outputs": [],
   "source": [
    "### Linear of regression with curve_fit\n",
    "### Define the model f, definition of an equation\n",
    "def f_linear(x, A, B):\n",
    "    y = A*x + B\n",
    "    return y"
   ]
  },
  {
   "cell_type": "code",
   "execution_count": 60,
   "metadata": {},
   "outputs": [
    {
     "data": {
      "text/plain": [
       "2"
      ]
     },
     "execution_count": 60,
     "metadata": {},
     "output_type": "execute_result"
    }
   ],
   "source": [
    "f_linear(1,1,1)"
   ]
  },
  {
   "cell_type": "code",
   "execution_count": 61,
   "metadata": {},
   "outputs": [],
   "source": [
    "### Do linear curve fitting of petal length vs. petal width\n",
    "x_iris = data_iris.petal_width\n",
    "y_iris = data_iris.petal_length\n",
    "param, cov = scipy.optimize.curve_fit(f_linear, x, y)"
   ]
  },
  {
   "cell_type": "code",
   "execution_count": 62,
   "metadata": {},
   "outputs": [
    {
     "data": {
      "text/plain": [
       "array([2.22994049, 1.08355803])"
      ]
     },
     "execution_count": 62,
     "metadata": {},
     "output_type": "execute_result"
    }
   ],
   "source": [
    "### Look at results and compare to linregress results\n",
    "### Param: 2.2=A, 1.08=B\n",
    "param\n",
    "\n",
    "### R Coef:"
   ]
  },
  {
   "cell_type": "code",
   "execution_count": 63,
   "metadata": {},
   "outputs": [
    {
     "data": {
      "text/plain": [
       "array([[ 0.00264157, -0.00316813],\n",
       "       [-0.00316813,  0.00532418]])"
      ]
     },
     "execution_count": 63,
     "metadata": {},
     "output_type": "execute_result"
    }
   ],
   "source": [
    "cov"
   ]
  },
  {
   "cell_type": "code",
   "execution_count": 64,
   "metadata": {},
   "outputs": [
    {
     "data": {
      "text/plain": [
       "array([[1.        , 0.96286543],\n",
       "       [0.96286543, 1.        ]])"
      ]
     },
     "execution_count": 64,
     "metadata": {},
     "output_type": "execute_result"
    }
   ],
   "source": [
    "### Look at results and compare to linregress results\n",
    "### Param: 2.2=A, 1.08=B\n",
    "param\n",
    "\n",
    "### R Coef: its a matrix\n",
    "np.corrcoef(x_iris, y_iris)"
   ]
  },
  {
   "cell_type": "markdown",
   "metadata": {},
   "source": [
    "<code>numpy.corrcoef()</code> returns the Peasron correlation coefficient matrix of the variables.\n",
    "\n",
    "Ressource: https://numpy.org/doc/stable/reference/generated/numpy.corrcoef.html"
   ]
  },
  {
   "cell_type": "markdown",
   "metadata": {},
   "source": [
    "### Exercice [20 points]\n",
    "Import the dose-response dataset. We tested various concentrations for 12 different drugs on AML3 cells. The dataset contains the viability responses. \n",
    "\n",
    "* Row names are the $log_{10}$ concentration\n",
    "* Column names are the various drugs we tested\n",
    "* Cells values are the $\\%$ viability of AML3 for a given concentration of a given compound.\n",
    "\n",
    "\n",
    "**Find which drug has the smallest IC$_{50}$ and which drug has the smallest minimal viabiality.**\n",
    "\n",
    "It is common practice to model dose-response data with the log-logistic model:<br>\n",
    "$$f(x) = Min + \\frac{Max - Min}{1 + 10 ^ {slope\\cdot (x - IC_{50})}} $$<br>\n",
    "\n",
    "where $x$ is a dose and $f(x)$ the $\\%$ viability for that given dose."
   ]
  },
  {
   "cell_type": "markdown",
   "metadata": {},
   "source": [
    "# Based on the results, MI-2 has the smallest IC50 (1.95), and Erlotinib has the smallest minimal viability (4.79%)."
   ]
  },
  {
   "cell_type": "code",
   "execution_count": 341,
   "metadata": {},
   "outputs": [],
   "source": [
    "### min A, max B, IC50 D,Slope C, IC50 D\n",
    "fn = \"dose_response.tsv\"\n"
   ]
  },
  {
   "cell_type": "code",
   "execution_count": 342,
   "metadata": {},
   "outputs": [
    {
     "data": {
      "text/html": [
       "<div>\n",
       "<style scoped>\n",
       "    .dataframe tbody tr th:only-of-type {\n",
       "        vertical-align: middle;\n",
       "    }\n",
       "\n",
       "    .dataframe tbody tr th {\n",
       "        vertical-align: top;\n",
       "    }\n",
       "\n",
       "    .dataframe thead th {\n",
       "        text-align: right;\n",
       "    }\n",
       "</style>\n",
       "<table border=\"1\" class=\"dataframe\">\n",
       "  <thead>\n",
       "    <tr style=\"text-align: right;\">\n",
       "      <th></th>\n",
       "      <th>17-AAG</th>\n",
       "      <th>5-FU</th>\n",
       "      <th>Cisplatin</th>\n",
       "      <th>Docetaxel</th>\n",
       "      <th>Erlotinib</th>\n",
       "      <th>Gemcitabine</th>\n",
       "      <th>Methotrexate</th>\n",
       "      <th>Paclitaxel</th>\n",
       "      <th>Dasatinib</th>\n",
       "      <th>Erastin</th>\n",
       "      <th>MI-2</th>\n",
       "      <th>Ibrutinib</th>\n",
       "    </tr>\n",
       "  </thead>\n",
       "  <tbody>\n",
       "    <tr>\n",
       "      <th>0.00</th>\n",
       "      <td>105.365642</td>\n",
       "      <td>104.596167</td>\n",
       "      <td>101.129574</td>\n",
       "      <td>104.611240</td>\n",
       "      <td>100.827837</td>\n",
       "      <td>97.771030</td>\n",
       "      <td>99.892151</td>\n",
       "      <td>103.443733</td>\n",
       "      <td>98.183534</td>\n",
       "      <td>109.187630</td>\n",
       "      <td>93.403644</td>\n",
       "      <td>105.657292</td>\n",
       "    </tr>\n",
       "    <tr>\n",
       "      <th>0.45</th>\n",
       "      <td>101.565216</td>\n",
       "      <td>101.134757</td>\n",
       "      <td>112.224370</td>\n",
       "      <td>92.524450</td>\n",
       "      <td>98.901574</td>\n",
       "      <td>95.908113</td>\n",
       "      <td>92.199586</td>\n",
       "      <td>98.159898</td>\n",
       "      <td>96.205833</td>\n",
       "      <td>103.643503</td>\n",
       "      <td>94.823219</td>\n",
       "      <td>94.071434</td>\n",
       "    </tr>\n",
       "    <tr>\n",
       "      <th>0.90</th>\n",
       "      <td>100.033307</td>\n",
       "      <td>105.314506</td>\n",
       "      <td>97.311008</td>\n",
       "      <td>100.129630</td>\n",
       "      <td>111.514098</td>\n",
       "      <td>94.009943</td>\n",
       "      <td>92.336612</td>\n",
       "      <td>90.819773</td>\n",
       "      <td>102.504385</td>\n",
       "      <td>99.907917</td>\n",
       "      <td>89.138794</td>\n",
       "      <td>98.583086</td>\n",
       "    </tr>\n",
       "    <tr>\n",
       "      <th>1.35</th>\n",
       "      <td>103.455431</td>\n",
       "      <td>93.823001</td>\n",
       "      <td>102.715153</td>\n",
       "      <td>80.514468</td>\n",
       "      <td>104.753194</td>\n",
       "      <td>89.887212</td>\n",
       "      <td>95.716763</td>\n",
       "      <td>94.277135</td>\n",
       "      <td>92.090233</td>\n",
       "      <td>95.876338</td>\n",
       "      <td>81.162379</td>\n",
       "      <td>109.049417</td>\n",
       "    </tr>\n",
       "    <tr>\n",
       "      <th>1.80</th>\n",
       "      <td>93.130203</td>\n",
       "      <td>94.981719</td>\n",
       "      <td>94.863502</td>\n",
       "      <td>94.301608</td>\n",
       "      <td>98.597278</td>\n",
       "      <td>79.484431</td>\n",
       "      <td>92.782509</td>\n",
       "      <td>94.042318</td>\n",
       "      <td>90.970364</td>\n",
       "      <td>87.460870</td>\n",
       "      <td>71.377037</td>\n",
       "      <td>97.239645</td>\n",
       "    </tr>\n",
       "    <tr>\n",
       "      <th>2.25</th>\n",
       "      <td>103.093430</td>\n",
       "      <td>64.110867</td>\n",
       "      <td>90.996261</td>\n",
       "      <td>80.036030</td>\n",
       "      <td>86.086095</td>\n",
       "      <td>59.138391</td>\n",
       "      <td>75.734292</td>\n",
       "      <td>74.128078</td>\n",
       "      <td>75.929157</td>\n",
       "      <td>73.015530</td>\n",
       "      <td>50.435617</td>\n",
       "      <td>92.149005</td>\n",
       "    </tr>\n",
       "    <tr>\n",
       "      <th>2.70</th>\n",
       "      <td>87.028302</td>\n",
       "      <td>61.643406</td>\n",
       "      <td>69.525899</td>\n",
       "      <td>52.829233</td>\n",
       "      <td>80.520431</td>\n",
       "      <td>34.964451</td>\n",
       "      <td>56.214709</td>\n",
       "      <td>58.924878</td>\n",
       "      <td>62.486050</td>\n",
       "      <td>37.546302</td>\n",
       "      <td>45.091421</td>\n",
       "      <td>92.256527</td>\n",
       "    </tr>\n",
       "    <tr>\n",
       "      <th>3.15</th>\n",
       "      <td>50.764615</td>\n",
       "      <td>46.417025</td>\n",
       "      <td>53.749364</td>\n",
       "      <td>43.116768</td>\n",
       "      <td>58.411053</td>\n",
       "      <td>27.628352</td>\n",
       "      <td>36.510491</td>\n",
       "      <td>42.976436</td>\n",
       "      <td>40.625998</td>\n",
       "      <td>27.237694</td>\n",
       "      <td>39.347083</td>\n",
       "      <td>73.819412</td>\n",
       "    </tr>\n",
       "    <tr>\n",
       "      <th>3.60</th>\n",
       "      <td>45.467911</td>\n",
       "      <td>25.964098</td>\n",
       "      <td>34.647526</td>\n",
       "      <td>32.616712</td>\n",
       "      <td>27.025940</td>\n",
       "      <td>36.939511</td>\n",
       "      <td>24.535577</td>\n",
       "      <td>36.424704</td>\n",
       "      <td>12.372163</td>\n",
       "      <td>30.730914</td>\n",
       "      <td>30.965974</td>\n",
       "      <td>39.923958</td>\n",
       "    </tr>\n",
       "    <tr>\n",
       "      <th>4.05</th>\n",
       "      <td>26.872119</td>\n",
       "      <td>17.467186</td>\n",
       "      <td>33.464696</td>\n",
       "      <td>19.563055</td>\n",
       "      <td>16.294061</td>\n",
       "      <td>19.586942</td>\n",
       "      <td>23.806342</td>\n",
       "      <td>27.073710</td>\n",
       "      <td>19.433530</td>\n",
       "      <td>21.001223</td>\n",
       "      <td>34.102808</td>\n",
       "      <td>22.724323</td>\n",
       "    </tr>\n",
       "    <tr>\n",
       "      <th>4.50</th>\n",
       "      <td>11.140452</td>\n",
       "      <td>15.206644</td>\n",
       "      <td>18.517355</td>\n",
       "      <td>15.129838</td>\n",
       "      <td>10.666131</td>\n",
       "      <td>24.958709</td>\n",
       "      <td>13.434636</td>\n",
       "      <td>23.494254</td>\n",
       "      <td>13.563735</td>\n",
       "      <td>18.867847</td>\n",
       "      <td>35.193309</td>\n",
       "      <td>12.503085</td>\n",
       "    </tr>\n",
       "    <tr>\n",
       "      <th>4.95</th>\n",
       "      <td>9.810859</td>\n",
       "      <td>22.532573</td>\n",
       "      <td>15.269812</td>\n",
       "      <td>18.865110</td>\n",
       "      <td>6.158786</td>\n",
       "      <td>13.870224</td>\n",
       "      <td>17.783718</td>\n",
       "      <td>18.977657</td>\n",
       "      <td>21.877893</td>\n",
       "      <td>23.562617</td>\n",
       "      <td>27.986231</td>\n",
       "      <td>13.236484</td>\n",
       "    </tr>\n",
       "  </tbody>\n",
       "</table>\n",
       "</div>"
      ],
      "text/plain": [
       "          17-AAG        5-FU   Cisplatin   Docetaxel   Erlotinib  Gemcitabine  \\\n",
       "0.00  105.365642  104.596167  101.129574  104.611240  100.827837    97.771030   \n",
       "0.45  101.565216  101.134757  112.224370   92.524450   98.901574    95.908113   \n",
       "0.90  100.033307  105.314506   97.311008  100.129630  111.514098    94.009943   \n",
       "1.35  103.455431   93.823001  102.715153   80.514468  104.753194    89.887212   \n",
       "1.80   93.130203   94.981719   94.863502   94.301608   98.597278    79.484431   \n",
       "2.25  103.093430   64.110867   90.996261   80.036030   86.086095    59.138391   \n",
       "2.70   87.028302   61.643406   69.525899   52.829233   80.520431    34.964451   \n",
       "3.15   50.764615   46.417025   53.749364   43.116768   58.411053    27.628352   \n",
       "3.60   45.467911   25.964098   34.647526   32.616712   27.025940    36.939511   \n",
       "4.05   26.872119   17.467186   33.464696   19.563055   16.294061    19.586942   \n",
       "4.50   11.140452   15.206644   18.517355   15.129838   10.666131    24.958709   \n",
       "4.95    9.810859   22.532573   15.269812   18.865110    6.158786    13.870224   \n",
       "\n",
       "      Methotrexate  Paclitaxel   Dasatinib     Erastin       MI-2   Ibrutinib  \n",
       "0.00     99.892151  103.443733   98.183534  109.187630  93.403644  105.657292  \n",
       "0.45     92.199586   98.159898   96.205833  103.643503  94.823219   94.071434  \n",
       "0.90     92.336612   90.819773  102.504385   99.907917  89.138794   98.583086  \n",
       "1.35     95.716763   94.277135   92.090233   95.876338  81.162379  109.049417  \n",
       "1.80     92.782509   94.042318   90.970364   87.460870  71.377037   97.239645  \n",
       "2.25     75.734292   74.128078   75.929157   73.015530  50.435617   92.149005  \n",
       "2.70     56.214709   58.924878   62.486050   37.546302  45.091421   92.256527  \n",
       "3.15     36.510491   42.976436   40.625998   27.237694  39.347083   73.819412  \n",
       "3.60     24.535577   36.424704   12.372163   30.730914  30.965974   39.923958  \n",
       "4.05     23.806342   27.073710   19.433530   21.001223  34.102808   22.724323  \n",
       "4.50     13.434636   23.494254   13.563735   18.867847  35.193309   12.503085  \n",
       "4.95     17.783718   18.977657   21.877893   23.562617  27.986231   13.236484  "
      ]
     },
     "execution_count": 342,
     "metadata": {},
     "output_type": "execute_result"
    }
   ],
   "source": [
    "myDataFrame = pd.read_csv(fn,sep=\"\\t\", index_col=0)\n",
    "myDataFrame"
   ]
  },
  {
   "cell_type": "code",
   "execution_count": 337,
   "metadata": {},
   "outputs": [
    {
     "data": {
      "text/plain": [
       "16"
      ]
     },
     "execution_count": 337,
     "metadata": {},
     "output_type": "execute_result"
    }
   ],
   "source": [
    "### 4^2=16\n",
    "np.power (4, 2)"
   ]
  },
  {
   "cell_type": "code",
   "execution_count": 338,
   "metadata": {},
   "outputs": [
    {
     "data": {
      "text/plain": [
       "'np.power(10, slope*(x-IC50))'"
      ]
     },
     "execution_count": 338,
     "metadata": {},
     "output_type": "execute_result"
    }
   ],
   "source": [
    "\"np.power(10, slope*(x-IC50))\""
   ]
  },
  {
   "cell_type": "code",
   "execution_count": 472,
   "metadata": {},
   "outputs": [],
   "source": [
    "def new_equation (x, Min, Max, slope, IC50):\n",
    "    y= Min + ((Max-Min) / (1. + np.power(10. ,slope*(x-IC50))))\n",
    "    return y"
   ]
  },
  {
   "cell_type": "code",
   "execution_count": 473,
   "metadata": {},
   "outputs": [],
   "source": [
    "x =myDataFrame.index.values\n",
    "y= myDataFrame[\"17-AAG\"]\n",
    "param, cov = scipy.optimize.curve_fit(new_equation, x, y)"
   ]
  },
  {
   "cell_type": "code",
   "execution_count": 474,
   "metadata": {},
   "outputs": [
    {
     "data": {
      "text/plain": [
       "array([  7.89764137, 103.3838195 ,   0.9420016 ,   3.28339625])"
      ]
     },
     "execution_count": 474,
     "metadata": {},
     "output_type": "execute_result"
    }
   ],
   "source": [
    "param"
   ]
  },
  {
   "cell_type": "code",
   "execution_count": 278,
   "metadata": {},
   "outputs": [],
   "source": [
    "x =myDataFrame.index.values\n",
    "y= myDataFrame[\"5-FU\"]\n",
    "param, cov = scipy.optimize.curve_fit(new_equation, x, y)"
   ]
  },
  {
   "cell_type": "code",
   "execution_count": 279,
   "metadata": {},
   "outputs": [
    {
     "data": {
      "text/plain": [
       "array([ 14.88155558, 105.61245252,   0.75436178,   2.62766514])"
      ]
     },
     "execution_count": 279,
     "metadata": {},
     "output_type": "execute_result"
    }
   ],
   "source": [
    "param"
   ]
  },
  {
   "cell_type": "code",
   "execution_count": 285,
   "metadata": {},
   "outputs": [],
   "source": [
    "x =myDataFrame.index.values\n",
    "y= myDataFrame[\"Cisplatin\"]\n",
    "param, cov = scipy.optimize.curve_fit(new_equation, x, y)"
   ]
  },
  {
   "cell_type": "code",
   "execution_count": 286,
   "metadata": {},
   "outputs": [
    {
     "data": {
      "text/plain": [
       "array([ 14.35944684, 105.4806414 ,   0.77636878,   3.00484284])"
      ]
     },
     "execution_count": 286,
     "metadata": {},
     "output_type": "execute_result"
    }
   ],
   "source": [
    "param"
   ]
  },
  {
   "cell_type": "code",
   "execution_count": 287,
   "metadata": {},
   "outputs": [],
   "source": [
    "x =myDataFrame.index.values\n",
    "y= myDataFrame[\"Docetaxel\"]\n",
    "param, cov = scipy.optimize.curve_fit(new_equation, x, y)"
   ]
  },
  {
   "cell_type": "code",
   "execution_count": 288,
   "metadata": {},
   "outputs": [
    {
     "data": {
      "text/plain": [
       "array([15.16757391, 98.54306516,  0.83310979,  2.75875416])"
      ]
     },
     "execution_count": 288,
     "metadata": {},
     "output_type": "execute_result"
    }
   ],
   "source": [
    "param"
   ]
  },
  {
   "cell_type": "code",
   "execution_count": 289,
   "metadata": {},
   "outputs": [],
   "source": [
    "x =myDataFrame.index.values\n",
    "y= myDataFrame[\"Erlotinib\"]\n",
    "param, cov = scipy.optimize.curve_fit(new_equation, x, y)"
   ]
  },
  {
   "cell_type": "code",
   "execution_count": 290,
   "metadata": {},
   "outputs": [
    {
     "data": {
      "text/plain": [
       "array([  4.79872146, 103.51792186,   0.99900279,   3.16196962])"
      ]
     },
     "execution_count": 290,
     "metadata": {},
     "output_type": "execute_result"
    }
   ],
   "source": [
    "param"
   ]
  },
  {
   "cell_type": "code",
   "execution_count": 291,
   "metadata": {},
   "outputs": [],
   "source": [
    "x =myDataFrame.index.values\n",
    "y= myDataFrame[\"Gemcitabine\"]\n",
    "param, cov = scipy.optimize.curve_fit(new_equation, x, y)"
   ]
  },
  {
   "cell_type": "code",
   "execution_count": 292,
   "metadata": {},
   "outputs": [
    {
     "data": {
      "text/plain": [
       "array([22.35010927, 97.15086788,  1.1381718 ,  2.21671977])"
      ]
     },
     "execution_count": 292,
     "metadata": {},
     "output_type": "execute_result"
    }
   ],
   "source": [
    "param"
   ]
  },
  {
   "cell_type": "code",
   "execution_count": 294,
   "metadata": {},
   "outputs": [],
   "source": [
    "x =myDataFrame.index.values\n",
    "y= myDataFrame[\"Methotrexate\"]\n",
    "param, cov = scipy.optimize.curve_fit(new_equation, x, y)"
   ]
  },
  {
   "cell_type": "code",
   "execution_count": 295,
   "metadata": {},
   "outputs": [
    {
     "data": {
      "text/plain": [
       "array([17.1456257 , 96.38756907,  1.11018574,  2.70117736])"
      ]
     },
     "execution_count": 295,
     "metadata": {},
     "output_type": "execute_result"
    }
   ],
   "source": [
    "param"
   ]
  },
  {
   "cell_type": "code",
   "execution_count": 296,
   "metadata": {},
   "outputs": [],
   "source": [
    "x =myDataFrame.index.values\n",
    "y= myDataFrame[\"Paclitaxel\"]\n",
    "param, cov = scipy.optimize.curve_fit(new_equation, x, y)"
   ]
  },
  {
   "cell_type": "code",
   "execution_count": 297,
   "metadata": {},
   "outputs": [
    {
     "data": {
      "text/plain": [
       "array([ 19.95153296, 100.31717753,   0.79285873,   2.70866825])"
      ]
     },
     "execution_count": 297,
     "metadata": {},
     "output_type": "execute_result"
    }
   ],
   "source": [
    "param"
   ]
  },
  {
   "cell_type": "code",
   "execution_count": 298,
   "metadata": {},
   "outputs": [],
   "source": [
    "x =myDataFrame.index.values\n",
    "y= myDataFrame[\"Dasatinib\"]\n",
    "param, cov = scipy.optimize.curve_fit(new_equation, x, y)"
   ]
  },
  {
   "cell_type": "code",
   "execution_count": 299,
   "metadata": {},
   "outputs": [
    {
     "data": {
      "text/plain": [
       "array([15.12526209, 97.4934386 ,  1.15105572,  2.75150664])"
      ]
     },
     "execution_count": 299,
     "metadata": {},
     "output_type": "execute_result"
    }
   ],
   "source": [
    "param"
   ]
  },
  {
   "cell_type": "code",
   "execution_count": 300,
   "metadata": {},
   "outputs": [],
   "source": [
    "x =myDataFrame.index.values\n",
    "y= myDataFrame[\"Erastin\"]\n",
    "param, cov = scipy.optimize.curve_fit(new_equation, x, y)"
   ]
  },
  {
   "cell_type": "code",
   "execution_count": 301,
   "metadata": {},
   "outputs": [
    {
     "data": {
      "text/plain": [
       "array([ 22.11417513, 103.7552015 ,   1.28306128,   2.32509716])"
      ]
     },
     "execution_count": 301,
     "metadata": {},
     "output_type": "execute_result"
    }
   ],
   "source": [
    "param"
   ]
  },
  {
   "cell_type": "code",
   "execution_count": 302,
   "metadata": {},
   "outputs": [],
   "source": [
    "x =myDataFrame.index.values\n",
    "y= myDataFrame[\"MI-2\"]\n",
    "param, cov = scipy.optimize.curve_fit(new_equation, x, y)"
   ]
  },
  {
   "cell_type": "code",
   "execution_count": 303,
   "metadata": {},
   "outputs": [
    {
     "data": {
      "text/plain": [
       "array([31.79391242, 95.91467095,  0.89697179,  1.95658472])"
      ]
     },
     "execution_count": 303,
     "metadata": {},
     "output_type": "execute_result"
    }
   ],
   "source": [
    "param"
   ]
  },
  {
   "cell_type": "code",
   "execution_count": 304,
   "metadata": {},
   "outputs": [],
   "source": [
    "x =myDataFrame.index.values\n",
    "y= myDataFrame[\"Ibrutinib\"]\n",
    "param, cov = scipy.optimize.curve_fit(new_equation, x, y)"
   ]
  },
  {
   "cell_type": "code",
   "execution_count": 305,
   "metadata": {},
   "outputs": [
    {
     "data": {
      "text/plain": [
       "array([ 11.65227726, 100.21266751,   1.3875885 ,   3.39071031])"
      ]
     },
     "execution_count": 305,
     "metadata": {},
     "output_type": "execute_result"
    }
   ],
   "source": [
    "param"
   ]
  },
  {
   "cell_type": "markdown",
   "metadata": {},
   "source": [
    "### BONUS [5 points]\n",
    "**Is there a linear correlation between the IC50 and Min values?**\n"
   ]
  },
  {
   "cell_type": "markdown",
   "metadata": {},
   "source": [
    "# Based on the calculated correlation coefficient (rvalue: 0.9) and the small pvalue (8e-08), we can reject H0 hypothesis and conclude that there is a significant correlation between IC50 and Min values. "
   ]
  },
  {
   "cell_type": "code",
   "execution_count": 497,
   "metadata": {},
   "outputs": [
    {
     "data": {
      "image/png": "[encoded data removed]",
      "text/plain": [
       "<Figure size 648x288 with 1 Axes>"
      ]
     },
     "metadata": {},
     "output_type": "display_data"
    }
   ],
   "source": [
    "IC50 = myDataFrame.iloc[:,2]\n",
    "minimal_value = myDataFrame.iloc[:,0]\n",
    "\n",
    "sns.scatterplot(x=ic50,y=minimal_value)\n",
    "reg = scipy.stats.linregress(x=ic50, y=minimal_value)\n",
    "y_own = reg.slope*ic50 + reg.intercept \n",
    "sns.lineplot(x=ic50, y=y_own, color=\"red\")\n",
    "\n",
    "plt.title(\"linear correlation between the IC50 and Min values\")\n",
    "plt.xlabel(\"ic50\")\n",
    "plt.ylabel(\"Minimal viability\")\n",
    "sns.despine()\n"
   ]
  },
  {
   "cell_type": "code",
   "execution_count": 467,
   "metadata": {},
   "outputs": [],
   "source": [
    "x= IC50\n",
    "y= minimal_value\n",
    "reg=scipy.stats.linregress(x=x, y=y)"
   ]
  },
  {
   "cell_type": "code",
   "execution_count": 468,
   "metadata": {},
   "outputs": [
    {
     "data": {
      "text/plain": [
       "LinregressResult(slope=1.0415297908737986, intercept=-1.7437328899286229, rvalue=0.9745384761410646, pvalue=8.075194178959696e-08, stderr=0.0757787963674149)"
      ]
     },
     "execution_count": 468,
     "metadata": {},
     "output_type": "execute_result"
    }
   ],
   "source": [
    "reg"
   ]
  },
  {
   "cell_type": "markdown",
   "metadata": {},
   "source": [
    "<hr>\n",
    "\n",
    "## Dimensionality reduction\n",
    "\n",
    "Dimensionality reduction allows use to reduce th enumber of random variables to consider. It is primarly useful for visualisation purpose and to increase the efficiency of other analysis methods (eg. clustering)."
   ]
  },
  {
   "cell_type": "markdown",
   "metadata": {},
   "source": [
    "### PCA with scikit learn\n",
    "\n",
    "**PCA** = Principal Component Analysis\n",
    "\n",
    "PCA is a dimensionality-reduction method that is often used to reduce the dimensionality of large data sets, by transforming a large set of variables into a smaller one that still contains most of the information in the large set. *We are trading a little bit of accuracy for simplicity*.\n",
    "\n",
    "Ressource: https://scikit-learn.org/stable/modules/generated/sklearn.decomposition.PCA.html#sklearn.decomposition.PCA"
   ]
  },
  {
   "cell_type": "code",
   "execution_count": 67,
   "metadata": {},
   "outputs": [
    {
     "data": {
      "text/html": [
       "<div>\n",
       "<style scoped>\n",
       "    .dataframe tbody tr th:only-of-type {\n",
       "        vertical-align: middle;\n",
       "    }\n",
       "\n",
       "    .dataframe tbody tr th {\n",
       "        vertical-align: top;\n",
       "    }\n",
       "\n",
       "    .dataframe thead th {\n",
       "        text-align: right;\n",
       "    }\n",
       "</style>\n",
       "<table border=\"1\" class=\"dataframe\">\n",
       "  <thead>\n",
       "    <tr style=\"text-align: right;\">\n",
       "      <th></th>\n",
       "      <th>sepal_length</th>\n",
       "      <th>sepal_width</th>\n",
       "      <th>petal_length</th>\n",
       "      <th>petal_width</th>\n",
       "      <th>label</th>\n",
       "    </tr>\n",
       "  </thead>\n",
       "  <tbody>\n",
       "    <tr>\n",
       "      <th>0</th>\n",
       "      <td>5.1</td>\n",
       "      <td>3.5</td>\n",
       "      <td>1.4</td>\n",
       "      <td>0.2</td>\n",
       "      <td>Iris-setosa</td>\n",
       "    </tr>\n",
       "    <tr>\n",
       "      <th>1</th>\n",
       "      <td>4.9</td>\n",
       "      <td>3.0</td>\n",
       "      <td>1.4</td>\n",
       "      <td>0.2</td>\n",
       "      <td>Iris-setosa</td>\n",
       "    </tr>\n",
       "    <tr>\n",
       "      <th>2</th>\n",
       "      <td>4.7</td>\n",
       "      <td>3.2</td>\n",
       "      <td>1.3</td>\n",
       "      <td>0.2</td>\n",
       "      <td>Iris-setosa</td>\n",
       "    </tr>\n",
       "    <tr>\n",
       "      <th>3</th>\n",
       "      <td>4.6</td>\n",
       "      <td>3.1</td>\n",
       "      <td>1.5</td>\n",
       "      <td>0.2</td>\n",
       "      <td>Iris-setosa</td>\n",
       "    </tr>\n",
       "    <tr>\n",
       "      <th>4</th>\n",
       "      <td>5.0</td>\n",
       "      <td>3.6</td>\n",
       "      <td>1.4</td>\n",
       "      <td>0.2</td>\n",
       "      <td>Iris-setosa</td>\n",
       "    </tr>\n",
       "    <tr>\n",
       "      <th>...</th>\n",
       "      <td>...</td>\n",
       "      <td>...</td>\n",
       "      <td>...</td>\n",
       "      <td>...</td>\n",
       "      <td>...</td>\n",
       "    </tr>\n",
       "    <tr>\n",
       "      <th>145</th>\n",
       "      <td>6.7</td>\n",
       "      <td>3.0</td>\n",
       "      <td>5.2</td>\n",
       "      <td>2.3</td>\n",
       "      <td>Iris-virginica</td>\n",
       "    </tr>\n",
       "    <tr>\n",
       "      <th>146</th>\n",
       "      <td>6.3</td>\n",
       "      <td>2.5</td>\n",
       "      <td>5.0</td>\n",
       "      <td>1.9</td>\n",
       "      <td>Iris-virginica</td>\n",
       "    </tr>\n",
       "    <tr>\n",
       "      <th>147</th>\n",
       "      <td>6.5</td>\n",
       "      <td>3.0</td>\n",
       "      <td>5.2</td>\n",
       "      <td>2.0</td>\n",
       "      <td>Iris-virginica</td>\n",
       "    </tr>\n",
       "    <tr>\n",
       "      <th>148</th>\n",
       "      <td>6.2</td>\n",
       "      <td>3.4</td>\n",
       "      <td>5.4</td>\n",
       "      <td>2.3</td>\n",
       "      <td>Iris-virginica</td>\n",
       "    </tr>\n",
       "    <tr>\n",
       "      <th>149</th>\n",
       "      <td>5.9</td>\n",
       "      <td>3.0</td>\n",
       "      <td>5.1</td>\n",
       "      <td>1.8</td>\n",
       "      <td>Iris-virginica</td>\n",
       "    </tr>\n",
       "  </tbody>\n",
       "</table>\n",
       "<p>150 rows × 5 columns</p>\n",
       "</div>"
      ],
      "text/plain": [
       "     sepal_length  sepal_width  petal_length  petal_width           label\n",
       "0             5.1          3.5           1.4          0.2     Iris-setosa\n",
       "1             4.9          3.0           1.4          0.2     Iris-setosa\n",
       "2             4.7          3.2           1.3          0.2     Iris-setosa\n",
       "3             4.6          3.1           1.5          0.2     Iris-setosa\n",
       "4             5.0          3.6           1.4          0.2     Iris-setosa\n",
       "..            ...          ...           ...          ...             ...\n",
       "145           6.7          3.0           5.2          2.3  Iris-virginica\n",
       "146           6.3          2.5           5.0          1.9  Iris-virginica\n",
       "147           6.5          3.0           5.2          2.0  Iris-virginica\n",
       "148           6.2          3.4           5.4          2.3  Iris-virginica\n",
       "149           5.9          3.0           5.1          1.8  Iris-virginica\n",
       "\n",
       "[150 rows x 5 columns]"
      ]
     },
     "execution_count": 67,
     "metadata": {},
     "output_type": "execute_result"
    }
   ],
   "source": [
    "### Show the iris dataset\n",
    "data_iris"
   ]
  },
  {
   "cell_type": "code",
   "execution_count": 68,
   "metadata": {},
   "outputs": [],
   "source": [
    "### Define the data we need for the PCA\n",
    "sol_names = [\"sepal_length\", \"sepal_width\", \"petal_length\", \"petal_width\"]\n",
    "X = data_iris.iloc[:,0:4]"
   ]
  },
  {
   "cell_type": "code",
   "execution_count": 70,
   "metadata": {},
   "outputs": [
    {
     "data": {
      "text/plain": [
       "PCA()"
      ]
     },
     "execution_count": 70,
     "metadata": {},
     "output_type": "execute_result"
    }
   ],
   "source": [
    "### Initiate de PCA and apply it to our data\n",
    "pca = sklearn.decomposition.PCA()\n",
    "pca.fit(X)"
   ]
  },
  {
   "cell_type": "markdown",
   "metadata": {},
   "source": [
    "Principal components are new variables that are constructed as linear combinations or mixtures of the initial variables. These combinations are done in such a way that the new variables (i.e., principal components) are uncorrelated and most of the information within the initial variables is squeezed or compressed into the first components."
   ]
  },
  {
   "cell_type": "markdown",
   "metadata": {},
   "source": [
    "**Attributes of the pca object:**\n",
    "\n",
    "<code>pca.n_components_</code>: estimated number of components\n",
    "\n",
    "<code>pca.n_features_</code>: number of features in the training data\n",
    "\n",
    "<code>pca.n_samples_</code>: number of samples in the training data"
   ]
  },
  {
   "cell_type": "code",
   "execution_count": null,
   "metadata": {},
   "outputs": [],
   "source": [
    "## Get estimated number of components\n",
    "pca.n_components_"
   ]
  },
  {
   "cell_type": "code",
   "execution_count": null,
   "metadata": {},
   "outputs": [],
   "source": [
    "## Get number of features in the training data\n"
   ]
  },
  {
   "cell_type": "code",
   "execution_count": null,
   "metadata": {},
   "outputs": [],
   "source": [
    "## Get number of samples in the training data\n"
   ]
  },
  {
   "cell_type": "markdown",
   "metadata": {},
   "source": [
    "PCA tries to put maximum possible information in the first component, then maximum remaining information in the second and so on.\n",
    "\n",
    "<code>pca.explained_variance_</code>: amount of variance explained by each of the selected components\n",
    "\n",
    "<code>pca.explained_variance_ratio_</code>: Percentage of variance explained by each of the selected components."
   ]
  },
  {
   "cell_type": "code",
   "execution_count": 71,
   "metadata": {},
   "outputs": [
    {
     "data": {
      "text/plain": [
       "array([0.92461872, 0.05306648, 0.01710261, 0.00521218])"
      ]
     },
     "execution_count": 71,
     "metadata": {},
     "output_type": "execute_result"
    }
   ],
   "source": [
    "## Get the explained_variance\n",
    "pca.explained_variance_ratio_"
   ]
  },
  {
   "cell_type": "code",
   "execution_count": 72,
   "metadata": {},
   "outputs": [
    {
     "data": {
      "text/plain": [
       "array([0.92461872, 0.05306648, 0.01710261, 0.00521218])"
      ]
     },
     "execution_count": 72,
     "metadata": {},
     "output_type": "execute_result"
    }
   ],
   "source": [
    "## Get the explained_variance_ratio_\n",
    "## What do you notice?\n",
    "pca.explained_variance_ratio_"
   ]
  },
  {
   "cell_type": "code",
   "execution_count": 74,
   "metadata": {},
   "outputs": [
    {
     "data": {
      "text/plain": [
       "array([0, 1, 2, 3, 4])"
      ]
     },
     "execution_count": 74,
     "metadata": {},
     "output_type": "execute_result"
    }
   ],
   "source": [
    "np.arange(0, 5)"
   ]
  },
  {
   "cell_type": "code",
   "execution_count": 76,
   "metadata": {},
   "outputs": [
    {
     "data": {
      "text/plain": [
       "Text(0, 0.5, '%of explained variance')"
      ]
     },
     "execution_count": 76,
     "metadata": {},
     "output_type": "execute_result"
    },
    {
     "data": {
      "image/png": "[encoded data removed]",
      "text/plain": [
       "<Figure size 648x288 with 1 Axes>"
      ]
     },
     "metadata": {},
     "output_type": "display_data"
    }
   ],
   "source": [
    "## Plot the explained_variance_ratio_\n",
    "## Bar plot: https://seaborn.pydata.org/generated/seaborn.barplot.html\n",
    "sns.barplot(x=np.arange(1,5), y=pca.explained_variance_ratio_)\n",
    "plt.title(\"PC Explained Variance - IRIS Dataset\")\n",
    "plt.xlabel(\"principal components\")\n",
    "plt.ylabel(\"%of explained variance\")"
   ]
  },
  {
   "cell_type": "code",
   "execution_count": 86,
   "metadata": {},
   "outputs": [],
   "source": [
    "### Apply the dimensionality reduction to our data ###it shows just variance\n",
    "reduce_iris = pca.transform(X)\n",
    "\n",
    "### Make a dataframe and add the label column\n",
    "reduce_iris = pd.DataFrame(reduce_iris)\n",
    "reduce_iris[\"label\"] = data_iris.label\n"
   ]
  },
  {
   "cell_type": "code",
   "execution_count": 85,
   "metadata": {},
   "outputs": [
    {
     "data": {
      "text/html": [
       "<div>\n",
       "<style scoped>\n",
       "    .dataframe tbody tr th:only-of-type {\n",
       "        vertical-align: middle;\n",
       "    }\n",
       "\n",
       "    .dataframe tbody tr th {\n",
       "        vertical-align: top;\n",
       "    }\n",
       "\n",
       "    .dataframe thead th {\n",
       "        text-align: right;\n",
       "    }\n",
       "</style>\n",
       "<table border=\"1\" class=\"dataframe\">\n",
       "  <thead>\n",
       "    <tr style=\"text-align: right;\">\n",
       "      <th></th>\n",
       "      <th>0</th>\n",
       "      <th>1</th>\n",
       "      <th>2</th>\n",
       "      <th>3</th>\n",
       "      <th>label</th>\n",
       "    </tr>\n",
       "  </thead>\n",
       "  <tbody>\n",
       "    <tr>\n",
       "      <th>0</th>\n",
       "      <td>-2.684126</td>\n",
       "      <td>0.319397</td>\n",
       "      <td>-0.027915</td>\n",
       "      <td>-0.002262</td>\n",
       "      <td>Iris-setosa</td>\n",
       "    </tr>\n",
       "    <tr>\n",
       "      <th>1</th>\n",
       "      <td>-2.714142</td>\n",
       "      <td>-0.177001</td>\n",
       "      <td>-0.210464</td>\n",
       "      <td>-0.099027</td>\n",
       "      <td>Iris-setosa</td>\n",
       "    </tr>\n",
       "    <tr>\n",
       "      <th>2</th>\n",
       "      <td>-2.888991</td>\n",
       "      <td>-0.144949</td>\n",
       "      <td>0.017900</td>\n",
       "      <td>-0.019968</td>\n",
       "      <td>Iris-setosa</td>\n",
       "    </tr>\n",
       "    <tr>\n",
       "      <th>3</th>\n",
       "      <td>-2.745343</td>\n",
       "      <td>-0.318299</td>\n",
       "      <td>0.031559</td>\n",
       "      <td>0.075576</td>\n",
       "      <td>Iris-setosa</td>\n",
       "    </tr>\n",
       "    <tr>\n",
       "      <th>4</th>\n",
       "      <td>-2.728717</td>\n",
       "      <td>0.326755</td>\n",
       "      <td>0.090079</td>\n",
       "      <td>0.061259</td>\n",
       "      <td>Iris-setosa</td>\n",
       "    </tr>\n",
       "  </tbody>\n",
       "</table>\n",
       "</div>"
      ],
      "text/plain": [
       "          0         1         2         3        label\n",
       "0 -2.684126  0.319397 -0.027915 -0.002262  Iris-setosa\n",
       "1 -2.714142 -0.177001 -0.210464 -0.099027  Iris-setosa\n",
       "2 -2.888991 -0.144949  0.017900 -0.019968  Iris-setosa\n",
       "3 -2.745343 -0.318299  0.031559  0.075576  Iris-setosa\n",
       "4 -2.728717  0.326755  0.090079  0.061259  Iris-setosa"
      ]
     },
     "execution_count": 85,
     "metadata": {},
     "output_type": "execute_result"
    }
   ],
   "source": [
    "reduce_iris.head()"
   ]
  },
  {
   "cell_type": "code",
   "execution_count": 88,
   "metadata": {},
   "outputs": [
    {
     "data": {
      "image/png": "[encoded data removed]",
      "text/plain": [
       "<Figure size 648x288 with 1 Axes>"
      ]
     },
     "metadata": {},
     "output_type": "display_data"
    }
   ],
   "source": [
    "### Plot the results of the reduction\n",
    "### How many PC should we use?\n",
    "sns.scatterplot(data=reduce_iris, x=0, y=1, hue=\"label\")\n",
    "sns.despine()"
   ]
  },
  {
   "cell_type": "markdown",
   "metadata": {},
   "source": [
    "What can be said of the above plot?\n",
    "\n",
    "Remember, the principal components are less interpretable and don’t have any real meaning since they are constructed as linear combinations of the initial variables..."
   ]
  },
  {
   "cell_type": "markdown",
   "metadata": {},
   "source": [
    "### Other ressources to learn more about PCA\n",
    "* https://builtin.com/data-science/step-step-explanation-principal-component-analysis\n",
    "* https://www.youtube.com/watch?v=HMOI_lkzW08\n",
    "* https://www.youtube.com/watch?v=FgakZw6K1QQ"
   ]
  },
  {
   "cell_type": "markdown",
   "metadata": {},
   "source": [
    "### Exercice  [20 points]\n",
    "\n",
    "Import the Wisconsin breast cancer dataset. We are interested in identifying tumors types.\n",
    "\n",
    "Can you identify a pair of variables that seems to be linearly correlated? \n",
    "* **What is the r coefficient?** \n",
    "* **Do you find different r coefficient for the different tumors type?**\n",
    "\n",
    "Apply a PCA on the dataset. Make sur to plot the percent of explained variance, and the results of the reduction apply to data.\n",
    "* **What can you conclude regarding the tumors types?**"
   ]
  },
  {
   "cell_type": "markdown",
   "metadata": {},
   "source": [
    "# radius and perimeter (rvalue:0.99) has the highest correlation and also there is a correlation between smoothness and symmetry (rvalue:0.55)\n",
    "\n"
   ]
  },
  {
   "cell_type": "code",
   "execution_count": 9,
   "metadata": {},
   "outputs": [],
   "source": [
    "fn = \"wisconsin_breast_caner.tsv\""
   ]
  },
  {
   "cell_type": "code",
   "execution_count": 10,
   "metadata": {
    "scrolled": true
   },
   "outputs": [
    {
     "data": {
      "text/html": [
       "<div>\n",
       "<style scoped>\n",
       "    .dataframe tbody tr th:only-of-type {\n",
       "        vertical-align: middle;\n",
       "    }\n",
       "\n",
       "    .dataframe tbody tr th {\n",
       "        vertical-align: top;\n",
       "    }\n",
       "\n",
       "    .dataframe thead th {\n",
       "        text-align: right;\n",
       "    }\n",
       "</style>\n",
       "<table border=\"1\" class=\"dataframe\">\n",
       "  <thead>\n",
       "    <tr style=\"text-align: right;\">\n",
       "      <th></th>\n",
       "      <th>mean radius</th>\n",
       "      <th>mean texture</th>\n",
       "      <th>mean perimeter</th>\n",
       "      <th>mean area</th>\n",
       "      <th>mean smoothness</th>\n",
       "      <th>mean compactness</th>\n",
       "      <th>mean concavity</th>\n",
       "      <th>mean concave points</th>\n",
       "      <th>mean symmetry</th>\n",
       "      <th>mean fractal dimension</th>\n",
       "      <th>Tumors type</th>\n",
       "    </tr>\n",
       "  </thead>\n",
       "  <tbody>\n",
       "    <tr>\n",
       "      <th>0</th>\n",
       "      <td>17.99</td>\n",
       "      <td>10.38</td>\n",
       "      <td>122.80</td>\n",
       "      <td>1001.0</td>\n",
       "      <td>0.11840</td>\n",
       "      <td>0.27760</td>\n",
       "      <td>0.30010</td>\n",
       "      <td>0.14710</td>\n",
       "      <td>0.2419</td>\n",
       "      <td>0.07871</td>\n",
       "      <td>malignant</td>\n",
       "    </tr>\n",
       "    <tr>\n",
       "      <th>1</th>\n",
       "      <td>20.57</td>\n",
       "      <td>17.77</td>\n",
       "      <td>132.90</td>\n",
       "      <td>1326.0</td>\n",
       "      <td>0.08474</td>\n",
       "      <td>0.07864</td>\n",
       "      <td>0.08690</td>\n",
       "      <td>0.07017</td>\n",
       "      <td>0.1812</td>\n",
       "      <td>0.05667</td>\n",
       "      <td>malignant</td>\n",
       "    </tr>\n",
       "    <tr>\n",
       "      <th>2</th>\n",
       "      <td>19.69</td>\n",
       "      <td>21.25</td>\n",
       "      <td>130.00</td>\n",
       "      <td>1203.0</td>\n",
       "      <td>0.10960</td>\n",
       "      <td>0.15990</td>\n",
       "      <td>0.19740</td>\n",
       "      <td>0.12790</td>\n",
       "      <td>0.2069</td>\n",
       "      <td>0.05999</td>\n",
       "      <td>malignant</td>\n",
       "    </tr>\n",
       "    <tr>\n",
       "      <th>3</th>\n",
       "      <td>11.42</td>\n",
       "      <td>20.38</td>\n",
       "      <td>77.58</td>\n",
       "      <td>386.1</td>\n",
       "      <td>0.14250</td>\n",
       "      <td>0.28390</td>\n",
       "      <td>0.24140</td>\n",
       "      <td>0.10520</td>\n",
       "      <td>0.2597</td>\n",
       "      <td>0.09744</td>\n",
       "      <td>malignant</td>\n",
       "    </tr>\n",
       "    <tr>\n",
       "      <th>4</th>\n",
       "      <td>20.29</td>\n",
       "      <td>14.34</td>\n",
       "      <td>135.10</td>\n",
       "      <td>1297.0</td>\n",
       "      <td>0.10030</td>\n",
       "      <td>0.13280</td>\n",
       "      <td>0.19800</td>\n",
       "      <td>0.10430</td>\n",
       "      <td>0.1809</td>\n",
       "      <td>0.05883</td>\n",
       "      <td>malignant</td>\n",
       "    </tr>\n",
       "    <tr>\n",
       "      <th>...</th>\n",
       "      <td>...</td>\n",
       "      <td>...</td>\n",
       "      <td>...</td>\n",
       "      <td>...</td>\n",
       "      <td>...</td>\n",
       "      <td>...</td>\n",
       "      <td>...</td>\n",
       "      <td>...</td>\n",
       "      <td>...</td>\n",
       "      <td>...</td>\n",
       "      <td>...</td>\n",
       "    </tr>\n",
       "    <tr>\n",
       "      <th>564</th>\n",
       "      <td>21.56</td>\n",
       "      <td>22.39</td>\n",
       "      <td>142.00</td>\n",
       "      <td>1479.0</td>\n",
       "      <td>0.11100</td>\n",
       "      <td>0.11590</td>\n",
       "      <td>0.24390</td>\n",
       "      <td>0.13890</td>\n",
       "      <td>0.1726</td>\n",
       "      <td>0.05623</td>\n",
       "      <td>malignant</td>\n",
       "    </tr>\n",
       "    <tr>\n",
       "      <th>565</th>\n",
       "      <td>20.13</td>\n",
       "      <td>28.25</td>\n",
       "      <td>131.20</td>\n",
       "      <td>1261.0</td>\n",
       "      <td>0.09780</td>\n",
       "      <td>0.10340</td>\n",
       "      <td>0.14400</td>\n",
       "      <td>0.09791</td>\n",
       "      <td>0.1752</td>\n",
       "      <td>0.05533</td>\n",
       "      <td>malignant</td>\n",
       "    </tr>\n",
       "    <tr>\n",
       "      <th>566</th>\n",
       "      <td>16.60</td>\n",
       "      <td>28.08</td>\n",
       "      <td>108.30</td>\n",
       "      <td>858.1</td>\n",
       "      <td>0.08455</td>\n",
       "      <td>0.10230</td>\n",
       "      <td>0.09251</td>\n",
       "      <td>0.05302</td>\n",
       "      <td>0.1590</td>\n",
       "      <td>0.05648</td>\n",
       "      <td>malignant</td>\n",
       "    </tr>\n",
       "    <tr>\n",
       "      <th>567</th>\n",
       "      <td>20.60</td>\n",
       "      <td>29.33</td>\n",
       "      <td>140.10</td>\n",
       "      <td>1265.0</td>\n",
       "      <td>0.11780</td>\n",
       "      <td>0.27700</td>\n",
       "      <td>0.35140</td>\n",
       "      <td>0.15200</td>\n",
       "      <td>0.2397</td>\n",
       "      <td>0.07016</td>\n",
       "      <td>malignant</td>\n",
       "    </tr>\n",
       "    <tr>\n",
       "      <th>568</th>\n",
       "      <td>7.76</td>\n",
       "      <td>24.54</td>\n",
       "      <td>47.92</td>\n",
       "      <td>181.0</td>\n",
       "      <td>0.05263</td>\n",
       "      <td>0.04362</td>\n",
       "      <td>0.00000</td>\n",
       "      <td>0.00000</td>\n",
       "      <td>0.1587</td>\n",
       "      <td>0.05884</td>\n",
       "      <td>benign</td>\n",
       "    </tr>\n",
       "  </tbody>\n",
       "</table>\n",
       "<p>569 rows × 11 columns</p>\n",
       "</div>"
      ],
      "text/plain": [
       "     mean radius  mean texture  mean perimeter  mean area  mean smoothness  \\\n",
       "0          17.99         10.38          122.80     1001.0          0.11840   \n",
       "1          20.57         17.77          132.90     1326.0          0.08474   \n",
       "2          19.69         21.25          130.00     1203.0          0.10960   \n",
       "3          11.42         20.38           77.58      386.1          0.14250   \n",
       "4          20.29         14.34          135.10     1297.0          0.10030   \n",
       "..           ...           ...             ...        ...              ...   \n",
       "564        21.56         22.39          142.00     1479.0          0.11100   \n",
       "565        20.13         28.25          131.20     1261.0          0.09780   \n",
       "566        16.60         28.08          108.30      858.1          0.08455   \n",
       "567        20.60         29.33          140.10     1265.0          0.11780   \n",
       "568         7.76         24.54           47.92      181.0          0.05263   \n",
       "\n",
       "     mean compactness  mean concavity  mean concave points  mean symmetry  \\\n",
       "0             0.27760         0.30010              0.14710         0.2419   \n",
       "1             0.07864         0.08690              0.07017         0.1812   \n",
       "2             0.15990         0.19740              0.12790         0.2069   \n",
       "3             0.28390         0.24140              0.10520         0.2597   \n",
       "4             0.13280         0.19800              0.10430         0.1809   \n",
       "..                ...             ...                  ...            ...   \n",
       "564           0.11590         0.24390              0.13890         0.1726   \n",
       "565           0.10340         0.14400              0.09791         0.1752   \n",
       "566           0.10230         0.09251              0.05302         0.1590   \n",
       "567           0.27700         0.35140              0.15200         0.2397   \n",
       "568           0.04362         0.00000              0.00000         0.1587   \n",
       "\n",
       "     mean fractal dimension Tumors type  \n",
       "0                   0.07871   malignant  \n",
       "1                   0.05667   malignant  \n",
       "2                   0.05999   malignant  \n",
       "3                   0.09744   malignant  \n",
       "4                   0.05883   malignant  \n",
       "..                      ...         ...  \n",
       "564                 0.05623   malignant  \n",
       "565                 0.05533   malignant  \n",
       "566                 0.05648   malignant  \n",
       "567                 0.07016   malignant  \n",
       "568                 0.05884      benign  \n",
       "\n",
       "[569 rows x 11 columns]"
      ]
     },
     "execution_count": 10,
     "metadata": {},
     "output_type": "execute_result"
    }
   ],
   "source": [
    "\n",
    "df = pd.read_csv(fn,sep=\"\\t\")\n",
    "df"
   ]
  },
  {
   "cell_type": "code",
   "execution_count": 11,
   "metadata": {},
   "outputs": [],
   "source": [
    "x= df[\"mean smoothness\"]\n",
    "y= df[\"mean symmetry\"]\n",
    "reg=scipy.stats.linregress(x=x, y=y)"
   ]
  },
  {
   "cell_type": "code",
   "execution_count": 12,
   "metadata": {
    "scrolled": true
   },
   "outputs": [
    {
     "data": {
      "text/plain": [
       "LinregressResult(slope=1.0872337632801994, intercept=0.07639571176293489, rvalue=0.5577747880728872, pvalue=7.795252788420366e-48, stderr=0.0679432952047062)"
      ]
     },
     "execution_count": 12,
     "metadata": {},
     "output_type": "execute_result"
    }
   ],
   "source": [
    "reg"
   ]
  },
  {
   "cell_type": "code",
   "execution_count": 13,
   "metadata": {},
   "outputs": [],
   "source": [
    "y_own = reg.slope*x+reg.intercept"
   ]
  },
  {
   "cell_type": "code",
   "execution_count": 14,
   "metadata": {
    "scrolled": true
   },
   "outputs": [
    {
     "data": {
      "image/png": "[encoded data removed]",
      "text/plain": [
       "<Figure size 432x288 with 1 Axes>"
      ]
     },
     "metadata": {
      "needs_background": "light"
     },
     "output_type": "display_data"
    }
   ],
   "source": [
    "x= df[\"mean smoothness\"]\n",
    "y= df[\"mean symmetry\"]\n",
    "sns.scatterplot(x=x, y=y)\n",
    "sns.regplot(x=x, y=y, scatter=False)\n",
    "sns.lineplot(x=x, y=y_own, color=\"red\")\n",
    "plt.title(\"linear correlation between smoothness and symmetry \")\n",
    "sns.despine()"
   ]
  },
  {
   "cell_type": "code",
   "execution_count": 15,
   "metadata": {},
   "outputs": [
    {
     "data": {
      "text/plain": [
       "0.5577747880728872"
      ]
     },
     "execution_count": 15,
     "metadata": {},
     "output_type": "execute_result"
    }
   ],
   "source": [
    "(reg.rvalue)"
   ]
  },
  {
   "cell_type": "code",
   "execution_count": 16,
   "metadata": {},
   "outputs": [],
   "source": [
    "x= df[\"mean radius\"]\n",
    "y= df[\"mean perimeter\"]\n",
    "reg=scipy.stats.linregress(x=x, y=y)"
   ]
  },
  {
   "cell_type": "code",
   "execution_count": 17,
   "metadata": {},
   "outputs": [
    {
     "data": {
      "text/plain": [
       "LinregressResult(slope=6.880400289601543, intercept=-5.232388786540312, rvalue=0.9978552814938111, pvalue=0.0, stderr=0.01895491225407212)"
      ]
     },
     "execution_count": 17,
     "metadata": {},
     "output_type": "execute_result"
    }
   ],
   "source": [
    "reg"
   ]
  },
  {
   "cell_type": "code",
   "execution_count": 18,
   "metadata": {},
   "outputs": [],
   "source": [
    "y_own = reg.slope*x+reg.intercept"
   ]
  },
  {
   "cell_type": "code",
   "execution_count": 19,
   "metadata": {
    "scrolled": true
   },
   "outputs": [
    {
     "data": {
      "image/png": "[encoded data removed]",
      "text/plain": [
       "<Figure size 432x288 with 1 Axes>"
      ]
     },
     "metadata": {
      "needs_background": "light"
     },
     "output_type": "display_data"
    }
   ],
   "source": [
    "x= df[\"mean radius\"]\n",
    "y= df[\"mean perimeter\"]\n",
    "sns.scatterplot(x=x, y=y)\n",
    "sns.regplot(x=x, y=y, scatter=False)\n",
    "sns.lineplot(x=x, y=y_own, color=\"red\")\n",
    "plt.title(\"linear correlation between radius and perimeter \")\n",
    "sns.despine()"
   ]
  },
  {
   "cell_type": "code",
   "execution_count": 20,
   "metadata": {},
   "outputs": [
    {
     "data": {
      "text/plain": [
       "0.9978552814938111"
      ]
     },
     "execution_count": 20,
     "metadata": {},
     "output_type": "execute_result"
    }
   ],
   "source": [
    "(reg.rvalue)"
   ]
  },
  {
   "cell_type": "markdown",
   "metadata": {},
   "source": [
    "# rvalues (correlation coefficient) between smoothness and symmetry for malignant tumors and benign tumors are 0.57 and 0.45, respectively. So, there is a difference between rvalues of different types of tumor. However, it could be by chance. (pvalue for this difference should be considered.)"
   ]
  },
  {
   "cell_type": "code",
   "execution_count": 21,
   "metadata": {
    "scrolled": true
   },
   "outputs": [
    {
     "data": {
      "text/html": [
       "<div>\n",
       "<style scoped>\n",
       "    .dataframe tbody tr th:only-of-type {\n",
       "        vertical-align: middle;\n",
       "    }\n",
       "\n",
       "    .dataframe tbody tr th {\n",
       "        vertical-align: top;\n",
       "    }\n",
       "\n",
       "    .dataframe thead th {\n",
       "        text-align: right;\n",
       "    }\n",
       "</style>\n",
       "<table border=\"1\" class=\"dataframe\">\n",
       "  <thead>\n",
       "    <tr style=\"text-align: right;\">\n",
       "      <th></th>\n",
       "      <th>mean radius</th>\n",
       "      <th>mean texture</th>\n",
       "      <th>mean perimeter</th>\n",
       "      <th>mean area</th>\n",
       "      <th>mean smoothness</th>\n",
       "      <th>mean compactness</th>\n",
       "      <th>mean concavity</th>\n",
       "      <th>mean concave points</th>\n",
       "      <th>mean symmetry</th>\n",
       "      <th>mean fractal dimension</th>\n",
       "      <th>Tumors type</th>\n",
       "    </tr>\n",
       "  </thead>\n",
       "  <tbody>\n",
       "    <tr>\n",
       "      <th>0</th>\n",
       "      <td>17.99</td>\n",
       "      <td>10.38</td>\n",
       "      <td>122.80</td>\n",
       "      <td>1001.0</td>\n",
       "      <td>0.11840</td>\n",
       "      <td>0.27760</td>\n",
       "      <td>0.3001</td>\n",
       "      <td>0.14710</td>\n",
       "      <td>0.2419</td>\n",
       "      <td>0.07871</td>\n",
       "      <td>malignant</td>\n",
       "    </tr>\n",
       "    <tr>\n",
       "      <th>1</th>\n",
       "      <td>20.57</td>\n",
       "      <td>17.77</td>\n",
       "      <td>132.90</td>\n",
       "      <td>1326.0</td>\n",
       "      <td>0.08474</td>\n",
       "      <td>0.07864</td>\n",
       "      <td>0.0869</td>\n",
       "      <td>0.07017</td>\n",
       "      <td>0.1812</td>\n",
       "      <td>0.05667</td>\n",
       "      <td>malignant</td>\n",
       "    </tr>\n",
       "    <tr>\n",
       "      <th>2</th>\n",
       "      <td>19.69</td>\n",
       "      <td>21.25</td>\n",
       "      <td>130.00</td>\n",
       "      <td>1203.0</td>\n",
       "      <td>0.10960</td>\n",
       "      <td>0.15990</td>\n",
       "      <td>0.1974</td>\n",
       "      <td>0.12790</td>\n",
       "      <td>0.2069</td>\n",
       "      <td>0.05999</td>\n",
       "      <td>malignant</td>\n",
       "    </tr>\n",
       "    <tr>\n",
       "      <th>3</th>\n",
       "      <td>11.42</td>\n",
       "      <td>20.38</td>\n",
       "      <td>77.58</td>\n",
       "      <td>386.1</td>\n",
       "      <td>0.14250</td>\n",
       "      <td>0.28390</td>\n",
       "      <td>0.2414</td>\n",
       "      <td>0.10520</td>\n",
       "      <td>0.2597</td>\n",
       "      <td>0.09744</td>\n",
       "      <td>malignant</td>\n",
       "    </tr>\n",
       "    <tr>\n",
       "      <th>4</th>\n",
       "      <td>20.29</td>\n",
       "      <td>14.34</td>\n",
       "      <td>135.10</td>\n",
       "      <td>1297.0</td>\n",
       "      <td>0.10030</td>\n",
       "      <td>0.13280</td>\n",
       "      <td>0.1980</td>\n",
       "      <td>0.10430</td>\n",
       "      <td>0.1809</td>\n",
       "      <td>0.05883</td>\n",
       "      <td>malignant</td>\n",
       "    </tr>\n",
       "  </tbody>\n",
       "</table>\n",
       "</div>"
      ],
      "text/plain": [
       "   mean radius  mean texture  mean perimeter  mean area  mean smoothness  \\\n",
       "0        17.99         10.38          122.80     1001.0          0.11840   \n",
       "1        20.57         17.77          132.90     1326.0          0.08474   \n",
       "2        19.69         21.25          130.00     1203.0          0.10960   \n",
       "3        11.42         20.38           77.58      386.1          0.14250   \n",
       "4        20.29         14.34          135.10     1297.0          0.10030   \n",
       "\n",
       "   mean compactness  mean concavity  mean concave points  mean symmetry  \\\n",
       "0           0.27760          0.3001              0.14710         0.2419   \n",
       "1           0.07864          0.0869              0.07017         0.1812   \n",
       "2           0.15990          0.1974              0.12790         0.2069   \n",
       "3           0.28390          0.2414              0.10520         0.2597   \n",
       "4           0.13280          0.1980              0.10430         0.1809   \n",
       "\n",
       "   mean fractal dimension Tumors type  \n",
       "0                 0.07871   malignant  \n",
       "1                 0.05667   malignant  \n",
       "2                 0.05999   malignant  \n",
       "3                 0.09744   malignant  \n",
       "4                 0.05883   malignant  "
      ]
     },
     "execution_count": 21,
     "metadata": {},
     "output_type": "execute_result"
    }
   ],
   "source": [
    "df_malignant = df[df[\"Tumors type\"]==\"malignant\"]\n",
    "df_malignant.head()"
   ]
  },
  {
   "cell_type": "code",
   "execution_count": 22,
   "metadata": {},
   "outputs": [],
   "source": [
    "x= df_malignant[\"mean smoothness\"]\n",
    "y= df_malignant[\"mean symmetry\"]\n",
    "reg=scipy.stats.linregress(x=x, y=y)"
   ]
  },
  {
   "cell_type": "code",
   "execution_count": 23,
   "metadata": {},
   "outputs": [
    {
     "data": {
      "text/plain": [
       "LinregressResult(slope=1.2674877124699644, intercept=0.062486389839991496, rvalue=0.5782158728908168, pvalue=2.607248376521611e-20, stderr=0.12341627107282203)"
      ]
     },
     "execution_count": 23,
     "metadata": {},
     "output_type": "execute_result"
    }
   ],
   "source": [
    "reg"
   ]
  },
  {
   "cell_type": "code",
   "execution_count": 24,
   "metadata": {},
   "outputs": [
    {
     "data": {
      "text/html": [
       "<div>\n",
       "<style scoped>\n",
       "    .dataframe tbody tr th:only-of-type {\n",
       "        vertical-align: middle;\n",
       "    }\n",
       "\n",
       "    .dataframe tbody tr th {\n",
       "        vertical-align: top;\n",
       "    }\n",
       "\n",
       "    .dataframe thead th {\n",
       "        text-align: right;\n",
       "    }\n",
       "</style>\n",
       "<table border=\"1\" class=\"dataframe\">\n",
       "  <thead>\n",
       "    <tr style=\"text-align: right;\">\n",
       "      <th></th>\n",
       "      <th>mean radius</th>\n",
       "      <th>mean texture</th>\n",
       "      <th>mean perimeter</th>\n",
       "      <th>mean area</th>\n",
       "      <th>mean smoothness</th>\n",
       "      <th>mean compactness</th>\n",
       "      <th>mean concavity</th>\n",
       "      <th>mean concave points</th>\n",
       "      <th>mean symmetry</th>\n",
       "      <th>mean fractal dimension</th>\n",
       "      <th>Tumors type</th>\n",
       "    </tr>\n",
       "  </thead>\n",
       "  <tbody>\n",
       "    <tr>\n",
       "      <th>19</th>\n",
       "      <td>13.540</td>\n",
       "      <td>14.36</td>\n",
       "      <td>87.46</td>\n",
       "      <td>566.3</td>\n",
       "      <td>0.09779</td>\n",
       "      <td>0.08129</td>\n",
       "      <td>0.06664</td>\n",
       "      <td>0.047810</td>\n",
       "      <td>0.1885</td>\n",
       "      <td>0.05766</td>\n",
       "      <td>benign</td>\n",
       "    </tr>\n",
       "    <tr>\n",
       "      <th>20</th>\n",
       "      <td>13.080</td>\n",
       "      <td>15.71</td>\n",
       "      <td>85.63</td>\n",
       "      <td>520.0</td>\n",
       "      <td>0.10750</td>\n",
       "      <td>0.12700</td>\n",
       "      <td>0.04568</td>\n",
       "      <td>0.031100</td>\n",
       "      <td>0.1967</td>\n",
       "      <td>0.06811</td>\n",
       "      <td>benign</td>\n",
       "    </tr>\n",
       "    <tr>\n",
       "      <th>21</th>\n",
       "      <td>9.504</td>\n",
       "      <td>12.44</td>\n",
       "      <td>60.34</td>\n",
       "      <td>273.9</td>\n",
       "      <td>0.10240</td>\n",
       "      <td>0.06492</td>\n",
       "      <td>0.02956</td>\n",
       "      <td>0.020760</td>\n",
       "      <td>0.1815</td>\n",
       "      <td>0.06905</td>\n",
       "      <td>benign</td>\n",
       "    </tr>\n",
       "    <tr>\n",
       "      <th>37</th>\n",
       "      <td>13.030</td>\n",
       "      <td>18.42</td>\n",
       "      <td>82.61</td>\n",
       "      <td>523.8</td>\n",
       "      <td>0.08983</td>\n",
       "      <td>0.03766</td>\n",
       "      <td>0.02562</td>\n",
       "      <td>0.029230</td>\n",
       "      <td>0.1467</td>\n",
       "      <td>0.05863</td>\n",
       "      <td>benign</td>\n",
       "    </tr>\n",
       "    <tr>\n",
       "      <th>46</th>\n",
       "      <td>8.196</td>\n",
       "      <td>16.84</td>\n",
       "      <td>51.71</td>\n",
       "      <td>201.9</td>\n",
       "      <td>0.08600</td>\n",
       "      <td>0.05943</td>\n",
       "      <td>0.01588</td>\n",
       "      <td>0.005917</td>\n",
       "      <td>0.1769</td>\n",
       "      <td>0.06503</td>\n",
       "      <td>benign</td>\n",
       "    </tr>\n",
       "  </tbody>\n",
       "</table>\n",
       "</div>"
      ],
      "text/plain": [
       "    mean radius  mean texture  mean perimeter  mean area  mean smoothness  \\\n",
       "19       13.540         14.36           87.46      566.3          0.09779   \n",
       "20       13.080         15.71           85.63      520.0          0.10750   \n",
       "21        9.504         12.44           60.34      273.9          0.10240   \n",
       "37       13.030         18.42           82.61      523.8          0.08983   \n",
       "46        8.196         16.84           51.71      201.9          0.08600   \n",
       "\n",
       "    mean compactness  mean concavity  mean concave points  mean symmetry  \\\n",
       "19           0.08129         0.06664             0.047810         0.1885   \n",
       "20           0.12700         0.04568             0.031100         0.1967   \n",
       "21           0.06492         0.02956             0.020760         0.1815   \n",
       "37           0.03766         0.02562             0.029230         0.1467   \n",
       "46           0.05943         0.01588             0.005917         0.1769   \n",
       "\n",
       "    mean fractal dimension Tumors type  \n",
       "19                 0.05766      benign  \n",
       "20                 0.06811      benign  \n",
       "21                 0.06905      benign  \n",
       "37                 0.05863      benign  \n",
       "46                 0.06503      benign  "
      ]
     },
     "execution_count": 24,
     "metadata": {},
     "output_type": "execute_result"
    }
   ],
   "source": [
    "df_benign = df[df[\"Tumors type\"]==\"benign\"]\n",
    "df_benign.head()"
   ]
  },
  {
   "cell_type": "code",
   "execution_count": 25,
   "metadata": {},
   "outputs": [],
   "source": [
    "x= df_benign[\"mean smoothness\"]\n",
    "y= df_benign[\"mean symmetry\"]\n",
    "reg=scipy.stats.linregress(x=x, y=y)"
   ]
  },
  {
   "cell_type": "code",
   "execution_count": 26,
   "metadata": {},
   "outputs": [
    {
     "data": {
      "text/plain": [
       "LinregressResult(slope=0.834084178807458, intercept=0.09705185209265432, rvalue=0.4521010071010418, pvalue=2.190014843223213e-19, stderr=0.08733913709774321)"
      ]
     },
     "execution_count": 26,
     "metadata": {},
     "output_type": "execute_result"
    }
   ],
   "source": [
    "reg"
   ]
  },
  {
   "cell_type": "markdown",
   "metadata": {},
   "source": [
    "# PCA"
   ]
  },
  {
   "cell_type": "code",
   "execution_count": 27,
   "metadata": {},
   "outputs": [],
   "source": [
    "sol_names = [\"mean radius\", \"mean texture\", \"mean perimeter\", \"mean area\", \"mean smoothness\", \"mean concavity\", \"mean concave points\", \"mean symmetry\", \"mean fractal dimension\"] \n",
    "X = df.iloc[:,0:10]"
   ]
  },
  {
   "cell_type": "code",
   "execution_count": 28,
   "metadata": {},
   "outputs": [
    {
     "data": {
      "text/plain": [
       "PCA()"
      ]
     },
     "execution_count": 28,
     "metadata": {},
     "output_type": "execute_result"
    }
   ],
   "source": [
    "pca = sklearn.decomposition.PCA()\n",
    "pca.fit(X)"
   ]
  },
  {
   "cell_type": "code",
   "execution_count": 29,
   "metadata": {},
   "outputs": [
    {
     "data": {
      "text/plain": [
       "array([9.99737595e-01, 1.41922412e-04, 1.20048703e-04, 4.17947339e-07,\n",
       "       8.76235088e-09, 4.05324283e-09, 1.80367612e-09, 9.19912265e-10,\n",
       "       3.63148200e-10, 6.02093281e-11])"
      ]
     },
     "execution_count": 29,
     "metadata": {},
     "output_type": "execute_result"
    }
   ],
   "source": [
    "pca.explained_variance_ratio_"
   ]
  },
  {
   "cell_type": "code",
   "execution_count": 30,
   "metadata": {},
   "outputs": [
    {
     "data": {
      "text/plain": [
       "Text(0, 0.5, '%of explained variance')"
      ]
     },
     "execution_count": 30,
     "metadata": {},
     "output_type": "execute_result"
    },
    {
     "data": {
      "image/png": "[encoded data removed]",
      "text/plain": [
       "<Figure size 432x288 with 1 Axes>"
      ]
     },
     "metadata": {
      "needs_background": "light"
     },
     "output_type": "display_data"
    }
   ],
   "source": [
    "sns.barplot(x=np.arange(1,11), y=pca.explained_variance_ratio_)\n",
    "plt.title(\"PC Explained Variance - pd Dataset\")\n",
    "plt.xlabel(\"principal components\")\n",
    "plt.ylabel(\"%of explained variance\")"
   ]
  },
  {
   "cell_type": "code",
   "execution_count": 31,
   "metadata": {},
   "outputs": [],
   "source": [
    "reduce_df = pca.transform(X)"
   ]
  },
  {
   "cell_type": "code",
   "execution_count": 32,
   "metadata": {},
   "outputs": [],
   "source": [
    "reduce_df = pd.DataFrame(reduce_df)\n",
    "reduce_df[\"Tumors type\"] = df[\"Tumors type\"]\n"
   ]
  },
  {
   "cell_type": "code",
   "execution_count": 33,
   "metadata": {},
   "outputs": [
    {
     "data": {
      "text/html": [
       "<div>\n",
       "<style scoped>\n",
       "    .dataframe tbody tr th:only-of-type {\n",
       "        vertical-align: middle;\n",
       "    }\n",
       "\n",
       "    .dataframe tbody tr th {\n",
       "        vertical-align: top;\n",
       "    }\n",
       "\n",
       "    .dataframe thead th {\n",
       "        text-align: right;\n",
       "    }\n",
       "</style>\n",
       "<table border=\"1\" class=\"dataframe\">\n",
       "  <thead>\n",
       "    <tr style=\"text-align: right;\">\n",
       "      <th></th>\n",
       "      <th>0</th>\n",
       "      <th>1</th>\n",
       "      <th>2</th>\n",
       "      <th>3</th>\n",
       "      <th>4</th>\n",
       "      <th>5</th>\n",
       "      <th>6</th>\n",
       "      <th>7</th>\n",
       "      <th>8</th>\n",
       "      <th>9</th>\n",
       "      <th>Tumors type</th>\n",
       "    </tr>\n",
       "  </thead>\n",
       "  <tbody>\n",
       "    <tr>\n",
       "      <th>0</th>\n",
       "      <td>347.389726</td>\n",
       "      <td>3.450288</td>\n",
       "      <td>-12.076318</td>\n",
       "      <td>0.572098</td>\n",
       "      <td>0.032811</td>\n",
       "      <td>0.004913</td>\n",
       "      <td>0.007703</td>\n",
       "      <td>0.012064</td>\n",
       "      <td>0.013334</td>\n",
       "      <td>0.000154</td>\n",
       "      <td>malignant</td>\n",
       "    </tr>\n",
       "    <tr>\n",
       "      <th>1</th>\n",
       "      <td>672.360671</td>\n",
       "      <td>6.224454</td>\n",
       "      <td>1.098863</td>\n",
       "      <td>-0.416321</td>\n",
       "      <td>0.018808</td>\n",
       "      <td>0.023959</td>\n",
       "      <td>0.004654</td>\n",
       "      <td>0.012693</td>\n",
       "      <td>0.001331</td>\n",
       "      <td>0.005677</td>\n",
       "      <td>malignant</td>\n",
       "    </tr>\n",
       "    <tr>\n",
       "      <th>2</th>\n",
       "      <td>549.459902</td>\n",
       "      <td>-0.291601</td>\n",
       "      <td>-0.666707</td>\n",
       "      <td>-0.040560</td>\n",
       "      <td>0.047130</td>\n",
       "      <td>0.013785</td>\n",
       "      <td>0.008920</td>\n",
       "      <td>-0.011776</td>\n",
       "      <td>0.011583</td>\n",
       "      <td>-0.001717</td>\n",
       "      <td>malignant</td>\n",
       "    </tr>\n",
       "    <tr>\n",
       "      <th>3</th>\n",
       "      <td>-269.152753</td>\n",
       "      <td>-4.105000</td>\n",
       "      <td>-1.669007</td>\n",
       "      <td>0.598816</td>\n",
       "      <td>0.096022</td>\n",
       "      <td>0.037024</td>\n",
       "      <td>0.052045</td>\n",
       "      <td>0.015608</td>\n",
       "      <td>0.003036</td>\n",
       "      <td>0.004198</td>\n",
       "      <td>malignant</td>\n",
       "    </tr>\n",
       "    <tr>\n",
       "      <th>4</th>\n",
       "      <td>643.562714</td>\n",
       "      <td>6.209533</td>\n",
       "      <td>-4.199133</td>\n",
       "      <td>0.134655</td>\n",
       "      <td>-0.023151</td>\n",
       "      <td>-0.020709</td>\n",
       "      <td>-0.023839</td>\n",
       "      <td>-0.008362</td>\n",
       "      <td>-0.004567</td>\n",
       "      <td>0.001980</td>\n",
       "      <td>malignant</td>\n",
       "    </tr>\n",
       "  </tbody>\n",
       "</table>\n",
       "</div>"
      ],
      "text/plain": [
       "            0         1          2         3         4         5         6  \\\n",
       "0  347.389726  3.450288 -12.076318  0.572098  0.032811  0.004913  0.007703   \n",
       "1  672.360671  6.224454   1.098863 -0.416321  0.018808  0.023959  0.004654   \n",
       "2  549.459902 -0.291601  -0.666707 -0.040560  0.047130  0.013785  0.008920   \n",
       "3 -269.152753 -4.105000  -1.669007  0.598816  0.096022  0.037024  0.052045   \n",
       "4  643.562714  6.209533  -4.199133  0.134655 -0.023151 -0.020709 -0.023839   \n",
       "\n",
       "          7         8         9 Tumors type  \n",
       "0  0.012064  0.013334  0.000154   malignant  \n",
       "1  0.012693  0.001331  0.005677   malignant  \n",
       "2 -0.011776  0.011583 -0.001717   malignant  \n",
       "3  0.015608  0.003036  0.004198   malignant  \n",
       "4 -0.008362 -0.004567  0.001980   malignant  "
      ]
     },
     "execution_count": 33,
     "metadata": {},
     "output_type": "execute_result"
    }
   ],
   "source": [
    "reduce_df.head()"
   ]
  },
  {
   "cell_type": "code",
   "execution_count": 34,
   "metadata": {},
   "outputs": [
    {
     "data": {
      "text/plain": [
       "(569, 11)"
      ]
     },
     "execution_count": 34,
     "metadata": {},
     "output_type": "execute_result"
    }
   ],
   "source": [
    "reduce_df.shape"
   ]
  },
  {
   "cell_type": "code",
   "execution_count": 416,
   "metadata": {},
   "outputs": [
    {
     "data": {
      "image/png": "[encoded data removed]",
      "text/plain": [
       "<Figure size 648x288 with 1 Axes>"
      ]
     },
     "metadata": {},
     "output_type": "display_data"
    }
   ],
   "source": [
    "sns.scatterplot(data= reduce_df, x=0, y=1, \n",
    "sns.despine()"
   ]
  },
  {
   "cell_type": "markdown",
   "metadata": {},
   "source": [
    "<hr>\n",
    "\n",
    "## Clustering\n",
    "\n",
    "Clustering methodologies allow us to automatically group similar object into sets. There exist many clustering methodologies!\n",
    "\n",
    "![](https://scikit-learn.org/stable/_images/sphx_glr_plot_cluster_comparison_001.png)"
   ]
  },
  {
   "cell_type": "markdown",
   "metadata": {},
   "source": [
    "### k-means with scikit-learn\n",
    "\n",
    "The KMeans algorithm clusters data by trying to separate samples in $n$ groups of equal variance, minimizing a criterion known as **within-cluster sum-of-squares**.\n",
    "\n",
    "This algorithm requires the number of clusters to be specified. It scales well to large number of samples and has been used across a large range of application areas in many different fields.\n",
    "\n",
    "At a glance, the k-means algorithm divides a set of $N$ samples $X$ into $K$ disjoint clusters $C$, each described by the mean $\\mu_{j}$ of the samples in the cluster $C_{j}$. \n",
    "\n",
    "*In very high-dimensional spaces, Euclidean distances tend to become inflated (this is an instance of the so-called “curse of dimensionality”). Running a dimensionality reduction algorithm such as Principal component analysis (PCA) prior to k-means clustering can alleviate this problem and speed up the computations.*\n",
    "\n",
    "Ressource: https://scikit-learn.org/stable/modules/generated/sklearn.cluster.KMeans.html#sklearn.cluster.KMeans"
   ]
  },
  {
   "cell_type": "markdown",
   "metadata": {},
   "source": [
    "Let's apply the k-means algorithm to the first two principal component of the Iris dataset. **Are we able to cluster the datapoint based on their flower type?**"
   ]
  },
  {
   "cell_type": "code",
   "execution_count": null,
   "metadata": {},
   "outputs": [],
   "source": []
  },
  {
   "cell_type": "code",
   "execution_count": 121,
   "metadata": {},
   "outputs": [],
   "source": [
    "### Define the data\n",
    "sol_names = [\"mean radius\", \"mean texture\", \"mean perimeter\", \"mean area\", \"mean smoothness\", \"mean concavity\", \"mean concave points\", \"mean symmetry\", \"mean fractal dimension\"] \n",
    "X = reduce_iris.iloc[:, 0:4]"
   ]
  },
  {
   "cell_type": "code",
   "execution_count": 122,
   "metadata": {},
   "outputs": [],
   "source": [
    "### Initiate the k-means alogirthm\n",
    "### How many cluster should we use? HERE, K IS BASED ON LABELS\n",
    "k = 3"
   ]
  },
  {
   "cell_type": "code",
   "execution_count": 135,
   "metadata": {},
   "outputs": [],
   "source": [
    "### Apply kmeans to our data\n",
    "kmeans= sklearn.cluster.KMeans(k)\n",
    "kmeans = kmeans.fit(X)"
   ]
  },
  {
   "cell_type": "markdown",
   "metadata": {},
   "source": [
    "**Attributes of the kmeans object:**\n",
    "\n",
    "<code>kmeans.cluster_centers_</code>: coordinates of cluster centers\n",
    "\n",
    "<code>kmeans.labels_</code>: labels of each point"
   ]
  },
  {
   "cell_type": "code",
   "execution_count": 124,
   "metadata": {},
   "outputs": [
    {
     "data": {
      "text/plain": [
       "array([[ 6.75662290e-01, -3.15204772e-01, -4.21730223e-02,\n",
       "         1.10361570e-02],\n",
       "       [-2.64241546e+00,  1.90885047e-01,  1.35812812e-02,\n",
       "        -5.44928771e-04],\n",
       "       [ 2.37446608e+00,  2.63116935e-01,  5.09385084e-02,\n",
       "        -1.72893500e-02]])"
      ]
     },
     "execution_count": 124,
     "metadata": {},
     "output_type": "execute_result"
    }
   ],
   "source": [
    "### Get centroids coordinate\n",
    "kmeans.cluster_centers_"
   ]
  },
  {
   "cell_type": "code",
   "execution_count": 125,
   "metadata": {},
   "outputs": [
    {
     "data": {
      "text/plain": [
       "array([1, 1, 1, 1, 1, 1, 1, 1, 1, 1, 1, 1, 1, 1, 1, 1, 1, 1, 1, 1, 1, 1,\n",
       "       1, 1, 1, 1, 1, 1, 1, 1, 1, 1, 1, 1, 1, 1, 1, 1, 1, 1, 1, 1, 1, 1,\n",
       "       1, 1, 1, 1, 1, 1, 0, 0, 2, 0, 0, 0, 0, 0, 0, 0, 0, 0, 0, 0, 0, 0,\n",
       "       0, 0, 0, 0, 0, 0, 0, 0, 0, 0, 0, 2, 0, 0, 0, 0, 0, 0, 0, 0, 0, 0,\n",
       "       0, 0, 0, 0, 0, 0, 0, 0, 0, 0, 0, 0, 2, 0, 2, 2, 2, 2, 0, 2, 2, 2,\n",
       "       2, 2, 2, 0, 0, 2, 2, 2, 2, 0, 2, 0, 2, 0, 2, 2, 0, 0, 2, 2, 2, 2,\n",
       "       2, 0, 2, 2, 2, 2, 0, 2, 2, 2, 0, 2, 2, 2, 0, 2, 2, 0], dtype=int32)"
      ]
     },
     "execution_count": 125,
     "metadata": {},
     "output_type": "execute_result"
    }
   ],
   "source": [
    "### Get datapoints labels\n",
    "kmeans.labels_"
   ]
  },
  {
   "cell_type": "code",
   "execution_count": 131,
   "metadata": {},
   "outputs": [
    {
     "data": {
      "text/html": [
       "<div>\n",
       "<style scoped>\n",
       "    .dataframe tbody tr th:only-of-type {\n",
       "        vertical-align: middle;\n",
       "    }\n",
       "\n",
       "    .dataframe tbody tr th {\n",
       "        vertical-align: top;\n",
       "    }\n",
       "\n",
       "    .dataframe thead th {\n",
       "        text-align: right;\n",
       "    }\n",
       "</style>\n",
       "<table border=\"1\" class=\"dataframe\">\n",
       "  <thead>\n",
       "    <tr style=\"text-align: right;\">\n",
       "      <th></th>\n",
       "      <th>0</th>\n",
       "      <th>1</th>\n",
       "      <th>2</th>\n",
       "      <th>3</th>\n",
       "      <th>label</th>\n",
       "      <th>cluster</th>\n",
       "    </tr>\n",
       "  </thead>\n",
       "  <tbody>\n",
       "    <tr>\n",
       "      <th>0</th>\n",
       "      <td>-2.684126</td>\n",
       "      <td>0.319397</td>\n",
       "      <td>-0.027915</td>\n",
       "      <td>-0.002262</td>\n",
       "      <td>Iris-setosa</td>\n",
       "      <td>1</td>\n",
       "    </tr>\n",
       "    <tr>\n",
       "      <th>1</th>\n",
       "      <td>-2.714142</td>\n",
       "      <td>-0.177001</td>\n",
       "      <td>-0.210464</td>\n",
       "      <td>-0.099027</td>\n",
       "      <td>Iris-setosa</td>\n",
       "      <td>1</td>\n",
       "    </tr>\n",
       "    <tr>\n",
       "      <th>2</th>\n",
       "      <td>-2.888991</td>\n",
       "      <td>-0.144949</td>\n",
       "      <td>0.017900</td>\n",
       "      <td>-0.019968</td>\n",
       "      <td>Iris-setosa</td>\n",
       "      <td>1</td>\n",
       "    </tr>\n",
       "    <tr>\n",
       "      <th>3</th>\n",
       "      <td>-2.745343</td>\n",
       "      <td>-0.318299</td>\n",
       "      <td>0.031559</td>\n",
       "      <td>0.075576</td>\n",
       "      <td>Iris-setosa</td>\n",
       "      <td>1</td>\n",
       "    </tr>\n",
       "    <tr>\n",
       "      <th>4</th>\n",
       "      <td>-2.728717</td>\n",
       "      <td>0.326755</td>\n",
       "      <td>0.090079</td>\n",
       "      <td>0.061259</td>\n",
       "      <td>Iris-setosa</td>\n",
       "      <td>1</td>\n",
       "    </tr>\n",
       "    <tr>\n",
       "      <th>...</th>\n",
       "      <td>...</td>\n",
       "      <td>...</td>\n",
       "      <td>...</td>\n",
       "      <td>...</td>\n",
       "      <td>...</td>\n",
       "      <td>...</td>\n",
       "    </tr>\n",
       "    <tr>\n",
       "      <th>145</th>\n",
       "      <td>1.944110</td>\n",
       "      <td>0.187532</td>\n",
       "      <td>0.177825</td>\n",
       "      <td>-0.426196</td>\n",
       "      <td>Iris-virginica</td>\n",
       "      <td>2</td>\n",
       "    </tr>\n",
       "    <tr>\n",
       "      <th>146</th>\n",
       "      <td>1.527167</td>\n",
       "      <td>-0.375317</td>\n",
       "      <td>-0.121898</td>\n",
       "      <td>-0.254367</td>\n",
       "      <td>Iris-virginica</td>\n",
       "      <td>0</td>\n",
       "    </tr>\n",
       "    <tr>\n",
       "      <th>147</th>\n",
       "      <td>1.764346</td>\n",
       "      <td>0.078859</td>\n",
       "      <td>0.130482</td>\n",
       "      <td>-0.137001</td>\n",
       "      <td>Iris-virginica</td>\n",
       "      <td>2</td>\n",
       "    </tr>\n",
       "    <tr>\n",
       "      <th>148</th>\n",
       "      <td>1.900942</td>\n",
       "      <td>0.116628</td>\n",
       "      <td>0.723252</td>\n",
       "      <td>-0.044595</td>\n",
       "      <td>Iris-virginica</td>\n",
       "      <td>2</td>\n",
       "    </tr>\n",
       "    <tr>\n",
       "      <th>149</th>\n",
       "      <td>1.390189</td>\n",
       "      <td>-0.282661</td>\n",
       "      <td>0.362910</td>\n",
       "      <td>0.155039</td>\n",
       "      <td>Iris-virginica</td>\n",
       "      <td>0</td>\n",
       "    </tr>\n",
       "  </tbody>\n",
       "</table>\n",
       "<p>150 rows × 6 columns</p>\n",
       "</div>"
      ],
      "text/plain": [
       "            0         1         2         3           label  cluster\n",
       "0   -2.684126  0.319397 -0.027915 -0.002262     Iris-setosa        1\n",
       "1   -2.714142 -0.177001 -0.210464 -0.099027     Iris-setosa        1\n",
       "2   -2.888991 -0.144949  0.017900 -0.019968     Iris-setosa        1\n",
       "3   -2.745343 -0.318299  0.031559  0.075576     Iris-setosa        1\n",
       "4   -2.728717  0.326755  0.090079  0.061259     Iris-setosa        1\n",
       "..        ...       ...       ...       ...             ...      ...\n",
       "145  1.944110  0.187532  0.177825 -0.426196  Iris-virginica        2\n",
       "146  1.527167 -0.375317 -0.121898 -0.254367  Iris-virginica        0\n",
       "147  1.764346  0.078859  0.130482 -0.137001  Iris-virginica        2\n",
       "148  1.900942  0.116628  0.723252 -0.044595  Iris-virginica        2\n",
       "149  1.390189 -0.282661  0.362910  0.155039  Iris-virginica        0\n",
       "\n",
       "[150 rows x 6 columns]"
      ]
     },
     "execution_count": 131,
     "metadata": {},
     "output_type": "execute_result"
    }
   ],
   "source": [
    "### Add the cluster column\n",
    "reduce_iris [\"cluster\"] = kmeans.labels_\n",
    "reduce_iris"
   ]
  },
  {
   "cell_type": "code",
   "execution_count": 129,
   "metadata": {},
   "outputs": [
    {
     "data": {
      "text/plain": [
       "<AxesSubplot:xlabel='0', ylabel='1'>"
      ]
     },
     "execution_count": 129,
     "metadata": {},
     "output_type": "execute_result"
    },
    {
     "data": {
      "image/png": "[encoded data removed]",
      "text/plain": [
       "<Figure size 648x288 with 1 Axes>"
      ]
     },
     "metadata": {},
     "output_type": "display_data"
    }
   ],
   "source": [
    "### Plot the cluster and the labels\n",
    "sns.scatterplot(data=reduce_iris, x=0,y=1, hue=\"label\")"
   ]
  },
  {
   "cell_type": "code",
   "execution_count": 142,
   "metadata": {},
   "outputs": [
    {
     "data": {
      "text/plain": [
       "<seaborn.axisgrid.FacetGrid at 0x2b8d32051e48>"
      ]
     },
     "execution_count": 142,
     "metadata": {},
     "output_type": "execute_result"
    },
    {
     "data": {
      "image/png": "[encoded data removed]",
      "text/plain": [
       "<Figure size 1194.35x360 with 3 Axes>"
      ]
     },
     "metadata": {},
     "output_type": "display_data"
    }
   ],
   "source": [
    "sns.relplot(data=reduce_iris, x=0,y=1, hue=\"label\", col=\"cluster\")"
   ]
  },
  {
   "cell_type": "markdown",
   "metadata": {},
   "source": [
    "It is not always easy to define the number of cluster to use!\n",
    "\n",
    "The most common approach for deciding the value of $K$ is the so-called elbow method. It involves running the algorithm multiple times over a loop, with an increasing number of cluster choice and then plotting a clustering score as a function of the number of clusters."
   ]
  },
  {
   "cell_type": "markdown",
   "metadata": {},
   "source": [
    "<code>inertia_</code>: sum of squared distances of samples to their closest cluster center"
   ]
  },
  {
   "cell_type": "code",
   "execution_count": 133,
   "metadata": {},
   "outputs": [
    {
     "data": {
      "text/plain": [
       "78.85144142614604"
      ]
     },
     "execution_count": 133,
     "metadata": {},
     "output_type": "execute_result"
    }
   ],
   "source": [
    "### Get the inertia of our initial kmean\n",
    "kmeans.inertia_"
   ]
  },
  {
   "cell_type": "code",
   "execution_count": 139,
   "metadata": {},
   "outputs": [],
   "source": [
    "### Run kmeans for various k values\n",
    "### initiate empty list\n",
    "inertia_list = []\n",
    "\n",
    "### Create for loop for K from 1 to 10\n",
    "for k in range(1, 11):\n",
    "    kmeans=sklearn.cluster.KMeans(k)\n",
    "    kmeans=kmeans.fit(X)\n",
    "    inertia_list +=[kmeans.inertia_]"
   ]
  },
  {
   "cell_type": "code",
   "execution_count": 140,
   "metadata": {},
   "outputs": [
    {
     "data": {
      "text/plain": [
       "[681.3705999999997,\n",
       " 152.34795176035806,\n",
       " 78.85144142614604,\n",
       " 57.25600931571816,\n",
       " 46.44618205128206,\n",
       " 39.058459040959065,\n",
       " 34.421674242424245,\n",
       " 30.411572738664848,\n",
       " 28.075244176618032,\n",
       " 26.418532780694292]"
      ]
     },
     "execution_count": 140,
     "metadata": {},
     "output_type": "execute_result"
    }
   ],
   "source": [
    "inertia_list"
   ]
  },
  {
   "cell_type": "code",
   "execution_count": 141,
   "metadata": {},
   "outputs": [
    {
     "data": {
      "text/plain": [
       "<function seaborn.utils.despine(fig=None, ax=None, top=True, right=True, left=False, bottom=False, offset=None, trim=False)>"
      ]
     },
     "execution_count": 141,
     "metadata": {},
     "output_type": "execute_result"
    },
    {
     "data": {
      "image/png": "[encoded data removed]",
      "text/plain": [
       "<Figure size 648x288 with 1 Axes>"
      ]
     },
     "metadata": {},
     "output_type": "display_data"
    }
   ],
   "source": [
    "### Plot K vs. interti\n",
    "sns.scatterplot(x=np.arange(1, 11), y=inertia_list)\n",
    "sns.lineplot(x=np.arange(1, 11), y=inertia_list)\n",
    "sns.despine"
   ]
  },
  {
   "cell_type": "code",
   "execution_count": null,
   "metadata": {},
   "outputs": [],
   "source": [
    "### Plot the cluster and the labels\n"
   ]
  },
  {
   "cell_type": "markdown",
   "metadata": {},
   "source": [
    "### Exercice [10 points]\n",
    "\n",
    "Go back the Wisconsin breast cancer dataset. **Can you cluster the datapoint in $K$ clusters?**\n",
    "\n",
    "You must first decide which value to give $K$. Make sure to leave some trace of your tought process...<br>\n",
    "Apply the kmean algorithme to the data and plot the results. **Can you find a link between one of the dataset features and the clusters?**"
   ]
  },
  {
   "cell_type": "code",
   "execution_count": 437,
   "metadata": {},
   "outputs": [
    {
     "data": {
      "text/plain": [
       "2"
      ]
     },
     "execution_count": 437,
     "metadata": {},
     "output_type": "execute_result"
    }
   ],
   "source": [
    "### how many tumors type we have\n",
    "### cluster data based on the tumors type\n",
    "len(pd.unique(df[\"Tumors type\"]))"
   ]
  },
  {
   "cell_type": "code",
   "execution_count": 452,
   "metadata": {},
   "outputs": [],
   "source": [
    "K = 2"
   ]
  },
  {
   "cell_type": "code",
   "execution_count": 453,
   "metadata": {},
   "outputs": [],
   "source": [
    "kmeans= sklearn.cluster.KMeans(k)\n",
    "kmeans = kmeans.fit(X)"
   ]
  },
  {
   "cell_type": "code",
   "execution_count": 454,
   "metadata": {},
   "outputs": [
    {
     "data": {
      "text/plain": [
       "array([[ 6.80871562e+02,  5.04716262e-02],\n",
       "       [-2.33465255e+02,  7.47761546e-01],\n",
       "       [ 3.08989656e+02, -2.01057847e+00],\n",
       "       [ 1.09777763e+03,  5.96681880e+00],\n",
       "       [ 1.09895072e+01, -2.02225564e+00],\n",
       "       [-3.74681554e+02,  3.19882879e+00],\n",
       "       [ 1.76412804e+03,  1.96750693e+01],\n",
       "       [-1.11541606e+02, -7.08434085e-01],\n",
       "       [ 4.95106192e+02, -1.33688997e+00],\n",
       "       [ 1.36444168e+02, -2.74441427e+00]])"
      ]
     },
     "execution_count": 454,
     "metadata": {},
     "output_type": "execute_result"
    }
   ],
   "source": [
    "kmeans.cluster_centers_"
   ]
  },
  {
   "cell_type": "code",
   "execution_count": 455,
   "metadata": {},
   "outputs": [
    {
     "data": {
      "text/plain": [
       "array([2, 0, 8, 1, 0, 1, 2, 7, 7, 1, 9, 9, 8, 9, 7, 4, 4, 9, 0, 7, 7, 5,\n",
       "       4, 0, 2, 2, 4, 8, 9, 2, 8, 1, 2, 8, 9, 9, 4, 7, 4, 7, 7, 1, 8, 7,\n",
       "       7, 8, 5, 7, 1, 7, 1, 7, 1, 2, 4, 1, 8, 4, 7, 5, 5, 5, 4, 5, 7, 4,\n",
       "       5, 1, 5, 7, 8, 5, 2, 7, 1, 9, 7, 2, 0, 7, 1, 7, 3, 8, 1, 8, 4, 8,\n",
       "       1, 4, 4, 9, 7, 7, 4, 0, 1, 5, 1, 4, 7, 5, 1, 5, 5, 7, 1, 1, 0, 1,\n",
       "       5, 1, 4, 5, 5, 1, 5, 4, 9, 2, 1, 8, 3, 4, 7, 7, 7, 8, 4, 8, 1, 9,\n",
       "       9, 9, 8, 7, 1, 1, 4, 1, 5, 9, 1, 7, 1, 1, 1, 4, 4, 7, 7, 5, 5, 1,\n",
       "       7, 1, 2, 2, 1, 1, 1, 8, 8, 1, 3, 4, 1, 2, 2, 4, 1, 7, 9, 1, 5, 5,\n",
       "       5, 9, 7, 7, 6, 0, 9, 1, 4, 5, 2, 1, 1, 1, 4, 7, 5, 1, 4, 7, 7, 2,\n",
       "       8, 4, 1, 2, 3, 7, 1, 4, 5, 2, 7, 4, 0, 1, 6, 2, 4, 7, 1, 5, 8, 8,\n",
       "       7, 7, 5, 9, 7, 4, 5, 4, 7, 7, 2, 1, 1, 0, 5, 7, 3, 0, 4, 2, 7, 1,\n",
       "       1, 7, 8, 5, 7, 7, 5, 1, 0, 1, 8, 2, 8, 7, 8, 4, 9, 9, 0, 2, 2, 9,\n",
       "       2, 0, 5, 7, 7, 5, 4, 1, 0, 5, 2, 1, 1, 8, 7, 7, 8, 1, 8, 9, 7, 7,\n",
       "       1, 7, 1, 1, 4, 4, 7, 1, 7, 7, 1, 1, 4, 5, 8, 1, 0, 5, 1, 1, 7, 5,\n",
       "       7, 7, 1, 4, 7, 1, 5, 1, 1, 2, 5, 1, 5, 0, 7, 0, 1, 7, 4, 1, 9, 9,\n",
       "       9, 7, 1, 1, 1, 2, 7, 8, 5, 3, 4, 5, 1, 8, 1, 5, 1, 4, 1, 1, 1, 9,\n",
       "       3, 4, 1, 7, 7, 7, 5, 5, 7, 7, 7, 9, 7, 0, 8, 1, 3, 0, 9, 4, 0, 0,\n",
       "       7, 9, 5, 7, 7, 1, 1, 1, 1, 1, 7, 4, 1, 7, 1, 8, 5, 5, 9, 0, 1, 4,\n",
       "       7, 7, 1, 1, 2, 1, 7, 7, 1, 1, 9, 7, 2, 1, 1, 1, 5, 4, 4, 1, 5, 9,\n",
       "       7, 1, 1, 4, 1, 7, 5, 5, 5, 1, 1, 7, 4, 1, 0, 8, 4, 7, 7, 4, 7, 4,\n",
       "       1, 2, 7, 5, 2, 1, 2, 4, 4, 0, 1, 8, 1, 4, 7, 7, 1, 7, 7, 5, 2, 6,\n",
       "       4, 1, 7, 7, 7, 5, 2, 1, 5, 1, 4, 1, 1, 7, 4, 7, 1, 9, 1, 7, 7, 7,\n",
       "       9, 1, 4, 8, 1, 9, 1, 2, 2, 1, 7, 4, 7, 1, 8, 0, 4, 7, 1, 3, 5, 5,\n",
       "       1, 1, 9, 9, 1, 4, 7, 4, 4, 1, 2, 8, 7, 7, 5, 3, 1, 7, 5, 5, 7, 1,\n",
       "       7, 1, 1, 1, 7, 0, 1, 0, 4, 1, 5, 5, 1, 4, 4, 7, 7, 7, 5, 5, 5, 1,\n",
       "       1, 1, 7, 5, 7, 5, 5, 5, 4, 1, 7, 1, 4, 0, 0, 0, 9, 0, 5],\n",
       "      dtype=int32)"
      ]
     },
     "execution_count": 455,
     "metadata": {},
     "output_type": "execute_result"
    }
   ],
   "source": [
    "kmeans.labels_"
   ]
  },
  {
   "cell_type": "code",
   "execution_count": 449,
   "metadata": {},
   "outputs": [
    {
     "data": {
      "text/html": [
       "<div>\n",
       "<style scoped>\n",
       "    .dataframe tbody tr th:only-of-type {\n",
       "        vertical-align: middle;\n",
       "    }\n",
       "\n",
       "    .dataframe tbody tr th {\n",
       "        vertical-align: top;\n",
       "    }\n",
       "\n",
       "    .dataframe thead th {\n",
       "        text-align: right;\n",
       "    }\n",
       "</style>\n",
       "<table border=\"1\" class=\"dataframe\">\n",
       "  <thead>\n",
       "    <tr style=\"text-align: right;\">\n",
       "      <th></th>\n",
       "      <th>0</th>\n",
       "      <th>1</th>\n",
       "      <th>2</th>\n",
       "      <th>3</th>\n",
       "      <th>4</th>\n",
       "      <th>5</th>\n",
       "      <th>6</th>\n",
       "      <th>7</th>\n",
       "      <th>8</th>\n",
       "      <th>9</th>\n",
       "      <th>Tumors type</th>\n",
       "      <th>cluster</th>\n",
       "    </tr>\n",
       "  </thead>\n",
       "  <tbody>\n",
       "    <tr>\n",
       "      <th>0</th>\n",
       "      <td>347.389726</td>\n",
       "      <td>3.450288</td>\n",
       "      <td>-12.076318</td>\n",
       "      <td>0.572098</td>\n",
       "      <td>0.032811</td>\n",
       "      <td>0.004913</td>\n",
       "      <td>0.007703</td>\n",
       "      <td>0.012064</td>\n",
       "      <td>0.013334</td>\n",
       "      <td>0.000154</td>\n",
       "      <td>malignant</td>\n",
       "      <td>4</td>\n",
       "    </tr>\n",
       "    <tr>\n",
       "      <th>1</th>\n",
       "      <td>672.360671</td>\n",
       "      <td>6.224454</td>\n",
       "      <td>1.098863</td>\n",
       "      <td>-0.416321</td>\n",
       "      <td>0.018808</td>\n",
       "      <td>0.023959</td>\n",
       "      <td>0.004654</td>\n",
       "      <td>0.012693</td>\n",
       "      <td>0.001331</td>\n",
       "      <td>0.005677</td>\n",
       "      <td>malignant</td>\n",
       "      <td>5</td>\n",
       "    </tr>\n",
       "    <tr>\n",
       "      <th>2</th>\n",
       "      <td>549.459902</td>\n",
       "      <td>-0.291601</td>\n",
       "      <td>-0.666707</td>\n",
       "      <td>-0.040560</td>\n",
       "      <td>0.047130</td>\n",
       "      <td>0.013785</td>\n",
       "      <td>0.008920</td>\n",
       "      <td>-0.011776</td>\n",
       "      <td>0.011583</td>\n",
       "      <td>-0.001717</td>\n",
       "      <td>malignant</td>\n",
       "      <td>1</td>\n",
       "    </tr>\n",
       "    <tr>\n",
       "      <th>3</th>\n",
       "      <td>-269.152753</td>\n",
       "      <td>-4.105000</td>\n",
       "      <td>-1.669007</td>\n",
       "      <td>0.598816</td>\n",
       "      <td>0.096022</td>\n",
       "      <td>0.037024</td>\n",
       "      <td>0.052045</td>\n",
       "      <td>0.015608</td>\n",
       "      <td>0.003036</td>\n",
       "      <td>0.004198</td>\n",
       "      <td>malignant</td>\n",
       "      <td>2</td>\n",
       "    </tr>\n",
       "    <tr>\n",
       "      <th>4</th>\n",
       "      <td>643.562714</td>\n",
       "      <td>6.209533</td>\n",
       "      <td>-4.199133</td>\n",
       "      <td>0.134655</td>\n",
       "      <td>-0.023151</td>\n",
       "      <td>-0.020709</td>\n",
       "      <td>-0.023839</td>\n",
       "      <td>-0.008362</td>\n",
       "      <td>-0.004567</td>\n",
       "      <td>0.001980</td>\n",
       "      <td>malignant</td>\n",
       "      <td>5</td>\n",
       "    </tr>\n",
       "    <tr>\n",
       "      <th>...</th>\n",
       "      <td>...</td>\n",
       "      <td>...</td>\n",
       "      <td>...</td>\n",
       "      <td>...</td>\n",
       "      <td>...</td>\n",
       "      <td>...</td>\n",
       "      <td>...</td>\n",
       "      <td>...</td>\n",
       "      <td>...</td>\n",
       "      <td>...</td>\n",
       "      <td>...</td>\n",
       "      <td>...</td>\n",
       "    </tr>\n",
       "    <tr>\n",
       "      <th>564</th>\n",
       "      <td>825.644625</td>\n",
       "      <td>3.957978</td>\n",
       "      <td>4.694108</td>\n",
       "      <td>-0.061644</td>\n",
       "      <td>0.067312</td>\n",
       "      <td>-0.030495</td>\n",
       "      <td>-0.006287</td>\n",
       "      <td>-0.028166</td>\n",
       "      <td>0.001199</td>\n",
       "      <td>0.000728</td>\n",
       "      <td>malignant</td>\n",
       "      <td>5</td>\n",
       "    </tr>\n",
       "    <tr>\n",
       "      <th>565</th>\n",
       "      <td>607.435813</td>\n",
       "      <td>-3.842099</td>\n",
       "      <td>5.717575</td>\n",
       "      <td>-0.305084</td>\n",
       "      <td>0.033193</td>\n",
       "      <td>0.003257</td>\n",
       "      <td>0.007683</td>\n",
       "      <td>-0.010346</td>\n",
       "      <td>0.002635</td>\n",
       "      <td>0.001456</td>\n",
       "      <td>malignant</td>\n",
       "      <td>5</td>\n",
       "    </tr>\n",
       "    <tr>\n",
       "      <th>566</th>\n",
       "      <td>203.898286</td>\n",
       "      <td>-7.801763</td>\n",
       "      <td>3.056188</td>\n",
       "      <td>-0.186346</td>\n",
       "      <td>-0.020818</td>\n",
       "      <td>-0.011886</td>\n",
       "      <td>0.002101</td>\n",
       "      <td>0.003580</td>\n",
       "      <td>-0.000068</td>\n",
       "      <td>-0.000239</td>\n",
       "      <td>malignant</td>\n",
       "      <td>7</td>\n",
       "    </tr>\n",
       "    <tr>\n",
       "      <th>567</th>\n",
       "      <td>612.040133</td>\n",
       "      <td>-10.066262</td>\n",
       "      <td>-0.301608</td>\n",
       "      <td>0.406645</td>\n",
       "      <td>0.053189</td>\n",
       "      <td>0.000613</td>\n",
       "      <td>0.001146</td>\n",
       "      <td>0.013286</td>\n",
       "      <td>-0.002575</td>\n",
       "      <td>-0.004007</td>\n",
       "      <td>malignant</td>\n",
       "      <td>5</td>\n",
       "    </tr>\n",
       "    <tr>\n",
       "      <th>568</th>\n",
       "      <td>-475.802622</td>\n",
       "      <td>1.906414</td>\n",
       "      <td>13.694388</td>\n",
       "      <td>0.131045</td>\n",
       "      <td>0.001669</td>\n",
       "      <td>-0.012922</td>\n",
       "      <td>-0.000693</td>\n",
       "      <td>0.016453</td>\n",
       "      <td>0.032138</td>\n",
       "      <td>-0.006474</td>\n",
       "      <td>benign</td>\n",
       "      <td>6</td>\n",
       "    </tr>\n",
       "  </tbody>\n",
       "</table>\n",
       "<p>569 rows × 12 columns</p>\n",
       "</div>"
      ],
      "text/plain": [
       "              0          1          2         3         4         5         6  \\\n",
       "0    347.389726   3.450288 -12.076318  0.572098  0.032811  0.004913  0.007703   \n",
       "1    672.360671   6.224454   1.098863 -0.416321  0.018808  0.023959  0.004654   \n",
       "2    549.459902  -0.291601  -0.666707 -0.040560  0.047130  0.013785  0.008920   \n",
       "3   -269.152753  -4.105000  -1.669007  0.598816  0.096022  0.037024  0.052045   \n",
       "4    643.562714   6.209533  -4.199133  0.134655 -0.023151 -0.020709 -0.023839   \n",
       "..          ...        ...        ...       ...       ...       ...       ...   \n",
       "564  825.644625   3.957978   4.694108 -0.061644  0.067312 -0.030495 -0.006287   \n",
       "565  607.435813  -3.842099   5.717575 -0.305084  0.033193  0.003257  0.007683   \n",
       "566  203.898286  -7.801763   3.056188 -0.186346 -0.020818 -0.011886  0.002101   \n",
       "567  612.040133 -10.066262  -0.301608  0.406645  0.053189  0.000613  0.001146   \n",
       "568 -475.802622   1.906414  13.694388  0.131045  0.001669 -0.012922 -0.000693   \n",
       "\n",
       "            7         8         9 Tumors type  cluster  \n",
       "0    0.012064  0.013334  0.000154   malignant        4  \n",
       "1    0.012693  0.001331  0.005677   malignant        5  \n",
       "2   -0.011776  0.011583 -0.001717   malignant        1  \n",
       "3    0.015608  0.003036  0.004198   malignant        2  \n",
       "4   -0.008362 -0.004567  0.001980   malignant        5  \n",
       "..        ...       ...       ...         ...      ...  \n",
       "564 -0.028166  0.001199  0.000728   malignant        5  \n",
       "565 -0.010346  0.002635  0.001456   malignant        5  \n",
       "566  0.003580 -0.000068 -0.000239   malignant        7  \n",
       "567  0.013286 -0.002575 -0.004007   malignant        5  \n",
       "568  0.016453  0.032138 -0.006474      benign        6  \n",
       "\n",
       "[569 rows x 12 columns]"
      ]
     },
     "execution_count": 449,
     "metadata": {},
     "output_type": "execute_result"
    }
   ],
   "source": [
    "reduce_df [\"cluster\"] = kmeans.labels_\n",
    "reduce_df"
   ]
  },
  {
   "cell_type": "code",
   "execution_count": 450,
   "metadata": {},
   "outputs": [
    {
     "data": {
      "text/plain": [
       "<AxesSubplot:xlabel='0', ylabel='1'>"
      ]
     },
     "execution_count": 450,
     "metadata": {},
     "output_type": "execute_result"
    },
    {
     "data": {
      "image/png": "[encoded data removed]",
      "text/plain": [
       "<Figure size 648x288 with 1 Axes>"
      ]
     },
     "metadata": {},
     "output_type": "display_data"
    }
   ],
   "source": [
    "sns.scatterplot(data=reduce_df, x=0,y=1, hue=reduce_df[\"Tumors type\"])"
   ]
  },
  {
   "cell_type": "code",
   "execution_count": 451,
   "metadata": {},
   "outputs": [
    {
     "data": {
      "text/plain": [
       "<seaborn.axisgrid.FacetGrid at 0x2b8d378079e8>"
      ]
     },
     "execution_count": 451,
     "metadata": {},
     "output_type": "execute_result"
    },
    {
     "data": {
      "image/png": "[encoded data removed]",
      "text/plain": [
       "<Figure size 3695.48x360 with 10 Axes>"
      ]
     },
     "metadata": {},
     "output_type": "display_data"
    }
   ],
   "source": [
    "sns.relplot(data=reduce_df, x=0,y=1, hue=reduce_df[\"Tumors type\"] , col=\"cluster\")"
   ]
  },
  {
   "cell_type": "code",
   "execution_count": 456,
   "metadata": {},
   "outputs": [
    {
     "data": {
      "text/plain": [
       "1188066.6826722343"
      ]
     },
     "execution_count": 456,
     "metadata": {},
     "output_type": "execute_result"
    }
   ],
   "source": [
    "kmeans.inertia_"
   ]
  },
  {
   "cell_type": "code",
   "execution_count": 459,
   "metadata": {},
   "outputs": [],
   "source": [
    "inertia_list = []\n",
    "for k in range(1, 10):\n",
    "    kmeans=sklearn.cluster.KMeans(k)\n",
    "    kmeans=kmeans.fit(X)\n",
    "    inertia_list +=[kmeans.inertia_]"
   ]
  },
  {
   "cell_type": "code",
   "execution_count": 460,
   "metadata": {},
   "outputs": [
    {
     "data": {
      "text/plain": [
       "[70687559.34028472,\n",
       " 21256757.15785492,\n",
       " 13177576.957792219,\n",
       " 7437992.795617598,\n",
       " 4968202.146145978,\n",
       " 3615993.7719177688,\n",
       " 2632861.87978545,\n",
       " 1914482.2208150057,\n",
       " 1482975.0168089422]"
      ]
     },
     "execution_count": 460,
     "metadata": {},
     "output_type": "execute_result"
    }
   ],
   "source": [
    "inertia_list"
   ]
  },
  {
   "cell_type": "code",
   "execution_count": 462,
   "metadata": {},
   "outputs": [
    {
     "data": {
      "text/plain": [
       "<function seaborn.utils.despine(fig=None, ax=None, top=True, right=True, left=False, bottom=False, offset=None, trim=False)>"
      ]
     },
     "execution_count": 462,
     "metadata": {},
     "output_type": "execute_result"
    },
    {
     "data": {
      "image/png": "[encoded data removed]",
      "text/plain": [
       "<Figure size 648x288 with 1 Axes>"
      ]
     },
     "metadata": {},
     "output_type": "display_data"
    }
   ],
   "source": [
    "sns.scatterplot(x=np.arange(1, 10), y=inertia_list)\n",
    "sns.lineplot(x=np.arange(1, 10), y=inertia_list)\n",
    "sns.despine"
   ]
  },
  {
   "cell_type": "code",
   "execution_count": null,
   "metadata": {},
   "outputs": [],
   "source": []
  }
 ],
 "metadata": {
  "kernelspec": {
   "display_name": "Python 3.6.7",
   "language": "python",
   "name": "python3"
  },
  "language_info": {
   "codemirror_mode": {
    "name": "ipython",
    "version": 3
   },
   "file_extension": ".py",
   "mimetype": "text/x-python",
   "name": "python",
   "nbconvert_exporter": "python",
   "pygments_lexer": "ipython3",
   "version": "3.6.7"
  }
 },
 "nbformat": 4,
 "nbformat_minor": 2
}
